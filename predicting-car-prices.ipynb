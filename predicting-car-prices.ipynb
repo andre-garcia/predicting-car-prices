{
 "cells": [
  {
   "cell_type": "markdown",
   "metadata": {},
   "source": [
    "# Predicting car prices using K-nearest neighbors"
   ]
  },
  {
   "cell_type": "markdown",
   "metadata": {},
   "source": [
    "### Introduction"
   ]
  },
  {
   "cell_type": "markdown",
   "metadata": {},
   "source": [
    "The goal of this project is to predict car prices based on different features by using the K-nearest neighbors algorithm."
   ]
  },
  {
   "cell_type": "markdown",
   "metadata": {},
   "source": [
    "This is a guided project from the Data Scientist in Python path from Dataquest. The dataset was collected and organized by Jeffrey C. Schlimmer using data from a few different sources, particularly \"Ward's Automotive Yearbook\" from 1985.\n",
    "It can be accessed here: https://archive.ics.uci.edu/ml/datasets/automobile"
   ]
  },
  {
   "cell_type": "code",
   "execution_count": 1,
   "metadata": {},
   "outputs": [],
   "source": [
    "# import relevant libraries\n",
    "\n",
    "import pandas as pd\n",
    "import numpy as np\n",
    "from sklearn.neighbors import KNeighborsRegressor\n",
    "from sklearn.metrics import mean_squared_error\n",
    "from sklearn.model_selection import cross_val_score, KFold\n",
    "from matplotlib import pyplot as plt\n",
    "%matplotlib inline"
   ]
  },
  {
   "cell_type": "markdown",
   "metadata": {},
   "source": [
    "### Data exploration and cleaning"
   ]
  },
  {
   "cell_type": "markdown",
   "metadata": {},
   "source": [
    "The dataset is contained in the file `imports-85.data`. The file does not have the column headers, so we need to add them manually using the information from the website that hosts the dataset. "
   ]
  },
  {
   "cell_type": "code",
   "execution_count": 2,
   "metadata": {},
   "outputs": [],
   "source": [
    "column_names = ['symboling', 'normalized-losses', 'make', 'fuel-type', 'aspiration', 'num-of-doors', 'body-style', 'drive-wheels', 'engine-location', 'wheel-base', 'length', 'width', 'height', 'curb-weight', 'engine-type', 'num-of-cylinders', 'engine-size', 'fuel-system', 'bore', 'stroke', 'compression-ratio', 'horsepower', 'peak-rpm', 'city-mpg', 'highway-mpg', 'price']"
   ]
  },
  {
   "cell_type": "code",
   "execution_count": 3,
   "metadata": {},
   "outputs": [],
   "source": [
    "# reading the data\n",
    "\n",
    "cars = pd.read_csv('imports-85.data', names=column_names)"
   ]
  },
  {
   "cell_type": "code",
   "execution_count": 4,
   "metadata": {},
   "outputs": [
    {
     "data": {
      "text/html": [
       "<div>\n",
       "<style scoped>\n",
       "    .dataframe tbody tr th:only-of-type {\n",
       "        vertical-align: middle;\n",
       "    }\n",
       "\n",
       "    .dataframe tbody tr th {\n",
       "        vertical-align: top;\n",
       "    }\n",
       "\n",
       "    .dataframe thead th {\n",
       "        text-align: right;\n",
       "    }\n",
       "</style>\n",
       "<table border=\"1\" class=\"dataframe\">\n",
       "  <thead>\n",
       "    <tr style=\"text-align: right;\">\n",
       "      <th></th>\n",
       "      <th>symboling</th>\n",
       "      <th>normalized-losses</th>\n",
       "      <th>make</th>\n",
       "      <th>fuel-type</th>\n",
       "      <th>aspiration</th>\n",
       "      <th>num-of-doors</th>\n",
       "      <th>body-style</th>\n",
       "      <th>drive-wheels</th>\n",
       "      <th>engine-location</th>\n",
       "      <th>wheel-base</th>\n",
       "      <th>...</th>\n",
       "      <th>engine-size</th>\n",
       "      <th>fuel-system</th>\n",
       "      <th>bore</th>\n",
       "      <th>stroke</th>\n",
       "      <th>compression-ratio</th>\n",
       "      <th>horsepower</th>\n",
       "      <th>peak-rpm</th>\n",
       "      <th>city-mpg</th>\n",
       "      <th>highway-mpg</th>\n",
       "      <th>price</th>\n",
       "    </tr>\n",
       "  </thead>\n",
       "  <tbody>\n",
       "    <tr>\n",
       "      <td>0</td>\n",
       "      <td>3</td>\n",
       "      <td>?</td>\n",
       "      <td>alfa-romero</td>\n",
       "      <td>gas</td>\n",
       "      <td>std</td>\n",
       "      <td>two</td>\n",
       "      <td>convertible</td>\n",
       "      <td>rwd</td>\n",
       "      <td>front</td>\n",
       "      <td>88.6</td>\n",
       "      <td>...</td>\n",
       "      <td>130</td>\n",
       "      <td>mpfi</td>\n",
       "      <td>3.47</td>\n",
       "      <td>2.68</td>\n",
       "      <td>9.0</td>\n",
       "      <td>111</td>\n",
       "      <td>5000</td>\n",
       "      <td>21</td>\n",
       "      <td>27</td>\n",
       "      <td>13495</td>\n",
       "    </tr>\n",
       "    <tr>\n",
       "      <td>1</td>\n",
       "      <td>3</td>\n",
       "      <td>?</td>\n",
       "      <td>alfa-romero</td>\n",
       "      <td>gas</td>\n",
       "      <td>std</td>\n",
       "      <td>two</td>\n",
       "      <td>convertible</td>\n",
       "      <td>rwd</td>\n",
       "      <td>front</td>\n",
       "      <td>88.6</td>\n",
       "      <td>...</td>\n",
       "      <td>130</td>\n",
       "      <td>mpfi</td>\n",
       "      <td>3.47</td>\n",
       "      <td>2.68</td>\n",
       "      <td>9.0</td>\n",
       "      <td>111</td>\n",
       "      <td>5000</td>\n",
       "      <td>21</td>\n",
       "      <td>27</td>\n",
       "      <td>16500</td>\n",
       "    </tr>\n",
       "    <tr>\n",
       "      <td>2</td>\n",
       "      <td>1</td>\n",
       "      <td>?</td>\n",
       "      <td>alfa-romero</td>\n",
       "      <td>gas</td>\n",
       "      <td>std</td>\n",
       "      <td>two</td>\n",
       "      <td>hatchback</td>\n",
       "      <td>rwd</td>\n",
       "      <td>front</td>\n",
       "      <td>94.5</td>\n",
       "      <td>...</td>\n",
       "      <td>152</td>\n",
       "      <td>mpfi</td>\n",
       "      <td>2.68</td>\n",
       "      <td>3.47</td>\n",
       "      <td>9.0</td>\n",
       "      <td>154</td>\n",
       "      <td>5000</td>\n",
       "      <td>19</td>\n",
       "      <td>26</td>\n",
       "      <td>16500</td>\n",
       "    </tr>\n",
       "    <tr>\n",
       "      <td>3</td>\n",
       "      <td>2</td>\n",
       "      <td>164</td>\n",
       "      <td>audi</td>\n",
       "      <td>gas</td>\n",
       "      <td>std</td>\n",
       "      <td>four</td>\n",
       "      <td>sedan</td>\n",
       "      <td>fwd</td>\n",
       "      <td>front</td>\n",
       "      <td>99.8</td>\n",
       "      <td>...</td>\n",
       "      <td>109</td>\n",
       "      <td>mpfi</td>\n",
       "      <td>3.19</td>\n",
       "      <td>3.40</td>\n",
       "      <td>10.0</td>\n",
       "      <td>102</td>\n",
       "      <td>5500</td>\n",
       "      <td>24</td>\n",
       "      <td>30</td>\n",
       "      <td>13950</td>\n",
       "    </tr>\n",
       "    <tr>\n",
       "      <td>4</td>\n",
       "      <td>2</td>\n",
       "      <td>164</td>\n",
       "      <td>audi</td>\n",
       "      <td>gas</td>\n",
       "      <td>std</td>\n",
       "      <td>four</td>\n",
       "      <td>sedan</td>\n",
       "      <td>4wd</td>\n",
       "      <td>front</td>\n",
       "      <td>99.4</td>\n",
       "      <td>...</td>\n",
       "      <td>136</td>\n",
       "      <td>mpfi</td>\n",
       "      <td>3.19</td>\n",
       "      <td>3.40</td>\n",
       "      <td>8.0</td>\n",
       "      <td>115</td>\n",
       "      <td>5500</td>\n",
       "      <td>18</td>\n",
       "      <td>22</td>\n",
       "      <td>17450</td>\n",
       "    </tr>\n",
       "  </tbody>\n",
       "</table>\n",
       "<p>5 rows × 26 columns</p>\n",
       "</div>"
      ],
      "text/plain": [
       "   symboling normalized-losses         make fuel-type aspiration num-of-doors  \\\n",
       "0          3                 ?  alfa-romero       gas        std          two   \n",
       "1          3                 ?  alfa-romero       gas        std          two   \n",
       "2          1                 ?  alfa-romero       gas        std          two   \n",
       "3          2               164         audi       gas        std         four   \n",
       "4          2               164         audi       gas        std         four   \n",
       "\n",
       "    body-style drive-wheels engine-location  wheel-base  ...  engine-size  \\\n",
       "0  convertible          rwd           front        88.6  ...          130   \n",
       "1  convertible          rwd           front        88.6  ...          130   \n",
       "2    hatchback          rwd           front        94.5  ...          152   \n",
       "3        sedan          fwd           front        99.8  ...          109   \n",
       "4        sedan          4wd           front        99.4  ...          136   \n",
       "\n",
       "   fuel-system  bore  stroke compression-ratio horsepower  peak-rpm city-mpg  \\\n",
       "0         mpfi  3.47    2.68               9.0        111      5000       21   \n",
       "1         mpfi  3.47    2.68               9.0        111      5000       21   \n",
       "2         mpfi  2.68    3.47               9.0        154      5000       19   \n",
       "3         mpfi  3.19    3.40              10.0        102      5500       24   \n",
       "4         mpfi  3.19    3.40               8.0        115      5500       18   \n",
       "\n",
       "  highway-mpg  price  \n",
       "0          27  13495  \n",
       "1          27  16500  \n",
       "2          26  16500  \n",
       "3          30  13950  \n",
       "4          22  17450  \n",
       "\n",
       "[5 rows x 26 columns]"
      ]
     },
     "execution_count": 4,
     "metadata": {},
     "output_type": "execute_result"
    }
   ],
   "source": [
    "# checking the first five rows\n",
    "cars.head()"
   ]
  },
  {
   "cell_type": "code",
   "execution_count": 5,
   "metadata": {},
   "outputs": [
    {
     "name": "stdout",
     "output_type": "stream",
     "text": [
      "<class 'pandas.core.frame.DataFrame'>\n",
      "RangeIndex: 205 entries, 0 to 204\n",
      "Data columns (total 26 columns):\n",
      "symboling            205 non-null int64\n",
      "normalized-losses    205 non-null object\n",
      "make                 205 non-null object\n",
      "fuel-type            205 non-null object\n",
      "aspiration           205 non-null object\n",
      "num-of-doors         205 non-null object\n",
      "body-style           205 non-null object\n",
      "drive-wheels         205 non-null object\n",
      "engine-location      205 non-null object\n",
      "wheel-base           205 non-null float64\n",
      "length               205 non-null float64\n",
      "width                205 non-null float64\n",
      "height               205 non-null float64\n",
      "curb-weight          205 non-null int64\n",
      "engine-type          205 non-null object\n",
      "num-of-cylinders     205 non-null object\n",
      "engine-size          205 non-null int64\n",
      "fuel-system          205 non-null object\n",
      "bore                 205 non-null object\n",
      "stroke               205 non-null object\n",
      "compression-ratio    205 non-null float64\n",
      "horsepower           205 non-null object\n",
      "peak-rpm             205 non-null object\n",
      "city-mpg             205 non-null int64\n",
      "highway-mpg          205 non-null int64\n",
      "price                205 non-null object\n",
      "dtypes: float64(5), int64(5), object(16)\n",
      "memory usage: 41.8+ KB\n"
     ]
    }
   ],
   "source": [
    "# checking column types and null values\n",
    "cars.info()"
   ]
  },
  {
   "cell_type": "markdown",
   "metadata": {},
   "source": [
    "There are no null values in the dataset. However, our inspection of the first few rows showed that some rows in the `normalized loss` column have a '?' value. It's posible this is how null values are represented in the dataset. So let's replace all '?' values in the dataset with Python's NaN ('Not a Number') values so that we can identify them and deal with them more easily."
   ]
  },
  {
   "cell_type": "code",
   "execution_count": 6,
   "metadata": {},
   "outputs": [],
   "source": [
    "cars.replace('?', np.nan, inplace=True)"
   ]
  },
  {
   "cell_type": "code",
   "execution_count": 7,
   "metadata": {},
   "outputs": [
    {
     "data": {
      "text/html": [
       "<div>\n",
       "<style scoped>\n",
       "    .dataframe tbody tr th:only-of-type {\n",
       "        vertical-align: middle;\n",
       "    }\n",
       "\n",
       "    .dataframe tbody tr th {\n",
       "        vertical-align: top;\n",
       "    }\n",
       "\n",
       "    .dataframe thead th {\n",
       "        text-align: right;\n",
       "    }\n",
       "</style>\n",
       "<table border=\"1\" class=\"dataframe\">\n",
       "  <thead>\n",
       "    <tr style=\"text-align: right;\">\n",
       "      <th></th>\n",
       "      <th>symboling</th>\n",
       "      <th>normalized-losses</th>\n",
       "      <th>make</th>\n",
       "      <th>fuel-type</th>\n",
       "      <th>aspiration</th>\n",
       "      <th>num-of-doors</th>\n",
       "      <th>body-style</th>\n",
       "      <th>drive-wheels</th>\n",
       "      <th>engine-location</th>\n",
       "      <th>wheel-base</th>\n",
       "      <th>...</th>\n",
       "      <th>engine-size</th>\n",
       "      <th>fuel-system</th>\n",
       "      <th>bore</th>\n",
       "      <th>stroke</th>\n",
       "      <th>compression-ratio</th>\n",
       "      <th>horsepower</th>\n",
       "      <th>peak-rpm</th>\n",
       "      <th>city-mpg</th>\n",
       "      <th>highway-mpg</th>\n",
       "      <th>price</th>\n",
       "    </tr>\n",
       "  </thead>\n",
       "  <tbody>\n",
       "    <tr>\n",
       "      <td>0</td>\n",
       "      <td>3</td>\n",
       "      <td>NaN</td>\n",
       "      <td>alfa-romero</td>\n",
       "      <td>gas</td>\n",
       "      <td>std</td>\n",
       "      <td>two</td>\n",
       "      <td>convertible</td>\n",
       "      <td>rwd</td>\n",
       "      <td>front</td>\n",
       "      <td>88.6</td>\n",
       "      <td>...</td>\n",
       "      <td>130</td>\n",
       "      <td>mpfi</td>\n",
       "      <td>3.47</td>\n",
       "      <td>2.68</td>\n",
       "      <td>9.0</td>\n",
       "      <td>111</td>\n",
       "      <td>5000</td>\n",
       "      <td>21</td>\n",
       "      <td>27</td>\n",
       "      <td>13495</td>\n",
       "    </tr>\n",
       "    <tr>\n",
       "      <td>1</td>\n",
       "      <td>3</td>\n",
       "      <td>NaN</td>\n",
       "      <td>alfa-romero</td>\n",
       "      <td>gas</td>\n",
       "      <td>std</td>\n",
       "      <td>two</td>\n",
       "      <td>convertible</td>\n",
       "      <td>rwd</td>\n",
       "      <td>front</td>\n",
       "      <td>88.6</td>\n",
       "      <td>...</td>\n",
       "      <td>130</td>\n",
       "      <td>mpfi</td>\n",
       "      <td>3.47</td>\n",
       "      <td>2.68</td>\n",
       "      <td>9.0</td>\n",
       "      <td>111</td>\n",
       "      <td>5000</td>\n",
       "      <td>21</td>\n",
       "      <td>27</td>\n",
       "      <td>16500</td>\n",
       "    </tr>\n",
       "    <tr>\n",
       "      <td>2</td>\n",
       "      <td>1</td>\n",
       "      <td>NaN</td>\n",
       "      <td>alfa-romero</td>\n",
       "      <td>gas</td>\n",
       "      <td>std</td>\n",
       "      <td>two</td>\n",
       "      <td>hatchback</td>\n",
       "      <td>rwd</td>\n",
       "      <td>front</td>\n",
       "      <td>94.5</td>\n",
       "      <td>...</td>\n",
       "      <td>152</td>\n",
       "      <td>mpfi</td>\n",
       "      <td>2.68</td>\n",
       "      <td>3.47</td>\n",
       "      <td>9.0</td>\n",
       "      <td>154</td>\n",
       "      <td>5000</td>\n",
       "      <td>19</td>\n",
       "      <td>26</td>\n",
       "      <td>16500</td>\n",
       "    </tr>\n",
       "    <tr>\n",
       "      <td>3</td>\n",
       "      <td>2</td>\n",
       "      <td>164</td>\n",
       "      <td>audi</td>\n",
       "      <td>gas</td>\n",
       "      <td>std</td>\n",
       "      <td>four</td>\n",
       "      <td>sedan</td>\n",
       "      <td>fwd</td>\n",
       "      <td>front</td>\n",
       "      <td>99.8</td>\n",
       "      <td>...</td>\n",
       "      <td>109</td>\n",
       "      <td>mpfi</td>\n",
       "      <td>3.19</td>\n",
       "      <td>3.40</td>\n",
       "      <td>10.0</td>\n",
       "      <td>102</td>\n",
       "      <td>5500</td>\n",
       "      <td>24</td>\n",
       "      <td>30</td>\n",
       "      <td>13950</td>\n",
       "    </tr>\n",
       "    <tr>\n",
       "      <td>4</td>\n",
       "      <td>2</td>\n",
       "      <td>164</td>\n",
       "      <td>audi</td>\n",
       "      <td>gas</td>\n",
       "      <td>std</td>\n",
       "      <td>four</td>\n",
       "      <td>sedan</td>\n",
       "      <td>4wd</td>\n",
       "      <td>front</td>\n",
       "      <td>99.4</td>\n",
       "      <td>...</td>\n",
       "      <td>136</td>\n",
       "      <td>mpfi</td>\n",
       "      <td>3.19</td>\n",
       "      <td>3.40</td>\n",
       "      <td>8.0</td>\n",
       "      <td>115</td>\n",
       "      <td>5500</td>\n",
       "      <td>18</td>\n",
       "      <td>22</td>\n",
       "      <td>17450</td>\n",
       "    </tr>\n",
       "  </tbody>\n",
       "</table>\n",
       "<p>5 rows × 26 columns</p>\n",
       "</div>"
      ],
      "text/plain": [
       "   symboling normalized-losses         make fuel-type aspiration num-of-doors  \\\n",
       "0          3               NaN  alfa-romero       gas        std          two   \n",
       "1          3               NaN  alfa-romero       gas        std          two   \n",
       "2          1               NaN  alfa-romero       gas        std          two   \n",
       "3          2               164         audi       gas        std         four   \n",
       "4          2               164         audi       gas        std         four   \n",
       "\n",
       "    body-style drive-wheels engine-location  wheel-base  ...  engine-size  \\\n",
       "0  convertible          rwd           front        88.6  ...          130   \n",
       "1  convertible          rwd           front        88.6  ...          130   \n",
       "2    hatchback          rwd           front        94.5  ...          152   \n",
       "3        sedan          fwd           front        99.8  ...          109   \n",
       "4        sedan          4wd           front        99.4  ...          136   \n",
       "\n",
       "   fuel-system  bore  stroke compression-ratio horsepower  peak-rpm city-mpg  \\\n",
       "0         mpfi  3.47    2.68               9.0        111      5000       21   \n",
       "1         mpfi  3.47    2.68               9.0        111      5000       21   \n",
       "2         mpfi  2.68    3.47               9.0        154      5000       19   \n",
       "3         mpfi  3.19    3.40              10.0        102      5500       24   \n",
       "4         mpfi  3.19    3.40               8.0        115      5500       18   \n",
       "\n",
       "  highway-mpg  price  \n",
       "0          27  13495  \n",
       "1          27  16500  \n",
       "2          26  16500  \n",
       "3          30  13950  \n",
       "4          22  17450  \n",
       "\n",
       "[5 rows x 26 columns]"
      ]
     },
     "execution_count": 7,
     "metadata": {},
     "output_type": "execute_result"
    }
   ],
   "source": [
    "cars.head()"
   ]
  },
  {
   "cell_type": "code",
   "execution_count": 8,
   "metadata": {},
   "outputs": [
    {
     "name": "stdout",
     "output_type": "stream",
     "text": [
      "<class 'pandas.core.frame.DataFrame'>\n",
      "RangeIndex: 205 entries, 0 to 204\n",
      "Data columns (total 26 columns):\n",
      "symboling            205 non-null int64\n",
      "normalized-losses    164 non-null object\n",
      "make                 205 non-null object\n",
      "fuel-type            205 non-null object\n",
      "aspiration           205 non-null object\n",
      "num-of-doors         203 non-null object\n",
      "body-style           205 non-null object\n",
      "drive-wheels         205 non-null object\n",
      "engine-location      205 non-null object\n",
      "wheel-base           205 non-null float64\n",
      "length               205 non-null float64\n",
      "width                205 non-null float64\n",
      "height               205 non-null float64\n",
      "curb-weight          205 non-null int64\n",
      "engine-type          205 non-null object\n",
      "num-of-cylinders     205 non-null object\n",
      "engine-size          205 non-null int64\n",
      "fuel-system          205 non-null object\n",
      "bore                 201 non-null object\n",
      "stroke               201 non-null object\n",
      "compression-ratio    205 non-null float64\n",
      "horsepower           203 non-null object\n",
      "peak-rpm             203 non-null object\n",
      "city-mpg             205 non-null int64\n",
      "highway-mpg          205 non-null int64\n",
      "price                201 non-null object\n",
      "dtypes: float64(5), int64(5), object(16)\n",
      "memory usage: 41.8+ KB\n"
     ]
    }
   ],
   "source": [
    "# checking column types and null values\n",
    "\n",
    "cars.info()"
   ]
  },
  {
   "cell_type": "markdown",
   "metadata": {},
   "source": [
    "Indeed we can now see that some null values were 'hiding' behind those '?'s. Also, our target variable `price` has 4 null values. We are going to simply remove the rows where `price` is null. "
   ]
  },
  {
   "cell_type": "code",
   "execution_count": 9,
   "metadata": {},
   "outputs": [],
   "source": [
    "cars = cars.dropna(subset=['price'])"
   ]
  },
  {
   "cell_type": "markdown",
   "metadata": {},
   "source": [
    "Let's have a closer look at which columns have null values."
   ]
  },
  {
   "cell_type": "code",
   "execution_count": 10,
   "metadata": {},
   "outputs": [
    {
     "data": {
      "text/plain": [
       "normalized-losses    37\n",
       "stroke                4\n",
       "bore                  4\n",
       "peak-rpm              2\n",
       "horsepower            2\n",
       "num-of-doors          2\n",
       "price                 0\n",
       "length                0\n",
       "make                  0\n",
       "fuel-type             0\n",
       "aspiration            0\n",
       "body-style            0\n",
       "drive-wheels          0\n",
       "engine-location       0\n",
       "wheel-base            0\n",
       "height                0\n",
       "width                 0\n",
       "highway-mpg           0\n",
       "curb-weight           0\n",
       "engine-type           0\n",
       "num-of-cylinders      0\n",
       "engine-size           0\n",
       "fuel-system           0\n",
       "compression-ratio     0\n",
       "city-mpg              0\n",
       "symboling             0\n",
       "dtype: int64"
      ]
     },
     "execution_count": 10,
     "metadata": {},
     "output_type": "execute_result"
    }
   ],
   "source": [
    "cars.isna().sum().sort_values(ascending=False)"
   ]
  },
  {
   "cell_type": "markdown",
   "metadata": {},
   "source": [
    "For this project, we are going to use columns with continuous, numeric values to predict car prices. Therefore, before we continue dealing with the null values, let's create a dataframe with just the continuous columns. We can use the dataset documentation to help us get more information about what each column represents. "
   ]
  },
  {
   "cell_type": "code",
   "execution_count": 11,
   "metadata": {},
   "outputs": [],
   "source": [
    "num_cols = ['normalized-losses', 'wheel-base', 'length', 'width', 'height',\n",
    "            'curb-weight', 'engine-size', 'bore', 'stroke', 'compression-ratio',\n",
    "            'horsepower', 'peak-rpm', 'city-mpg', 'highway-mpg', 'price']"
   ]
  },
  {
   "cell_type": "code",
   "execution_count": 12,
   "metadata": {},
   "outputs": [],
   "source": [
    "numeric_cars = cars[num_cols]"
   ]
  },
  {
   "cell_type": "code",
   "execution_count": 13,
   "metadata": {},
   "outputs": [
    {
     "name": "stdout",
     "output_type": "stream",
     "text": [
      "<class 'pandas.core.frame.DataFrame'>\n",
      "Int64Index: 201 entries, 0 to 204\n",
      "Data columns (total 15 columns):\n",
      "normalized-losses    164 non-null object\n",
      "wheel-base           201 non-null float64\n",
      "length               201 non-null float64\n",
      "width                201 non-null float64\n",
      "height               201 non-null float64\n",
      "curb-weight          201 non-null int64\n",
      "engine-size          201 non-null int64\n",
      "bore                 197 non-null object\n",
      "stroke               197 non-null object\n",
      "compression-ratio    201 non-null float64\n",
      "horsepower           199 non-null object\n",
      "peak-rpm             199 non-null object\n",
      "city-mpg             201 non-null int64\n",
      "highway-mpg          201 non-null int64\n",
      "price                201 non-null object\n",
      "dtypes: float64(5), int64(4), object(6)\n",
      "memory usage: 25.1+ KB\n"
     ]
    }
   ],
   "source": [
    "numeric_cars.info()"
   ]
  },
  {
   "cell_type": "markdown",
   "metadata": {},
   "source": [
    "Some columns have the wrong data type (`object`). We need to convert them into numeric.  "
   ]
  },
  {
   "cell_type": "code",
   "execution_count": 14,
   "metadata": {},
   "outputs": [],
   "source": [
    "numeric_cars = numeric_cars.astype('float')"
   ]
  },
  {
   "cell_type": "code",
   "execution_count": 15,
   "metadata": {},
   "outputs": [
    {
     "name": "stdout",
     "output_type": "stream",
     "text": [
      "<class 'pandas.core.frame.DataFrame'>\n",
      "Int64Index: 201 entries, 0 to 204\n",
      "Data columns (total 15 columns):\n",
      "normalized-losses    164 non-null float64\n",
      "wheel-base           201 non-null float64\n",
      "length               201 non-null float64\n",
      "width                201 non-null float64\n",
      "height               201 non-null float64\n",
      "curb-weight          201 non-null float64\n",
      "engine-size          201 non-null float64\n",
      "bore                 197 non-null float64\n",
      "stroke               197 non-null float64\n",
      "compression-ratio    201 non-null float64\n",
      "horsepower           199 non-null float64\n",
      "peak-rpm             199 non-null float64\n",
      "city-mpg             201 non-null float64\n",
      "highway-mpg          201 non-null float64\n",
      "price                201 non-null float64\n",
      "dtypes: float64(15)\n",
      "memory usage: 25.1 KB\n"
     ]
    }
   ],
   "source": [
    "numeric_cars.info()"
   ]
  },
  {
   "cell_type": "markdown",
   "metadata": {},
   "source": [
    "Perfecto!! Now we can finally deal with those missing values. In this case, we are going to replace them by the column mean."
   ]
  },
  {
   "cell_type": "code",
   "execution_count": 16,
   "metadata": {},
   "outputs": [],
   "source": [
    "numeric_cars = numeric_cars.fillna(numeric_cars.mean())"
   ]
  },
  {
   "cell_type": "markdown",
   "metadata": {
    "collapsed": true
   },
   "source": [
    "Let's check to see if it worked."
   ]
  },
  {
   "cell_type": "code",
   "execution_count": 17,
   "metadata": {},
   "outputs": [
    {
     "data": {
      "text/plain": [
       "price                0\n",
       "highway-mpg          0\n",
       "city-mpg             0\n",
       "peak-rpm             0\n",
       "horsepower           0\n",
       "compression-ratio    0\n",
       "stroke               0\n",
       "bore                 0\n",
       "engine-size          0\n",
       "curb-weight          0\n",
       "height               0\n",
       "width                0\n",
       "length               0\n",
       "wheel-base           0\n",
       "normalized-losses    0\n",
       "dtype: int64"
      ]
     },
     "execution_count": 17,
     "metadata": {},
     "output_type": "execute_result"
    }
   ],
   "source": [
    "numeric_cars.isna().sum().sort_values(ascending=False)"
   ]
  },
  {
   "cell_type": "markdown",
   "metadata": {},
   "source": [
    "Great!"
   ]
  },
  {
   "cell_type": "markdown",
   "metadata": {},
   "source": [
    "### Preparing features for machine learning"
   ]
  },
  {
   "cell_type": "markdown",
   "metadata": {},
   "source": [
    "Before we can start with the model training, we need to normalize the data so that all features have the same scale."
   ]
  },
  {
   "cell_type": "code",
   "execution_count": 18,
   "metadata": {},
   "outputs": [],
   "source": [
    "normalized_cars = (numeric_cars - numeric_cars.min())/(numeric_cars.max() - numeric_cars.min())"
   ]
  },
  {
   "cell_type": "markdown",
   "metadata": {},
   "source": [
    "Let's have a look at a random sample from the dataset to see how it looks."
   ]
  },
  {
   "cell_type": "code",
   "execution_count": 19,
   "metadata": {},
   "outputs": [
    {
     "data": {
      "text/html": [
       "<div>\n",
       "<style scoped>\n",
       "    .dataframe tbody tr th:only-of-type {\n",
       "        vertical-align: middle;\n",
       "    }\n",
       "\n",
       "    .dataframe tbody tr th {\n",
       "        vertical-align: top;\n",
       "    }\n",
       "\n",
       "    .dataframe thead th {\n",
       "        text-align: right;\n",
       "    }\n",
       "</style>\n",
       "<table border=\"1\" class=\"dataframe\">\n",
       "  <thead>\n",
       "    <tr style=\"text-align: right;\">\n",
       "      <th></th>\n",
       "      <th>normalized-losses</th>\n",
       "      <th>wheel-base</th>\n",
       "      <th>length</th>\n",
       "      <th>width</th>\n",
       "      <th>height</th>\n",
       "      <th>curb-weight</th>\n",
       "      <th>engine-size</th>\n",
       "      <th>bore</th>\n",
       "      <th>stroke</th>\n",
       "      <th>compression-ratio</th>\n",
       "      <th>horsepower</th>\n",
       "      <th>peak-rpm</th>\n",
       "      <th>city-mpg</th>\n",
       "      <th>highway-mpg</th>\n",
       "      <th>price</th>\n",
       "    </tr>\n",
       "  </thead>\n",
       "  <tbody>\n",
       "    <tr>\n",
       "      <td>2</td>\n",
       "      <td>0.298429</td>\n",
       "      <td>0.230321</td>\n",
       "      <td>0.449254</td>\n",
       "      <td>0.444444</td>\n",
       "      <td>0.383333</td>\n",
       "      <td>0.517843</td>\n",
       "      <td>0.343396</td>\n",
       "      <td>0.100000</td>\n",
       "      <td>0.666667</td>\n",
       "      <td>0.12500</td>\n",
       "      <td>0.495327</td>\n",
       "      <td>0.346939</td>\n",
       "      <td>0.166667</td>\n",
       "      <td>0.263158</td>\n",
       "      <td>0.282558</td>\n",
       "    </tr>\n",
       "    <tr>\n",
       "      <td>66</td>\n",
       "      <td>0.298429</td>\n",
       "      <td>0.533528</td>\n",
       "      <td>0.505970</td>\n",
       "      <td>0.495726</td>\n",
       "      <td>0.550000</td>\n",
       "      <td>0.470132</td>\n",
       "      <td>0.275472</td>\n",
       "      <td>0.635714</td>\n",
       "      <td>0.747619</td>\n",
       "      <td>0.93750</td>\n",
       "      <td>0.112150</td>\n",
       "      <td>0.020408</td>\n",
       "      <td>0.500000</td>\n",
       "      <td>0.605263</td>\n",
       "      <td>0.328335</td>\n",
       "    </tr>\n",
       "    <tr>\n",
       "      <td>79</td>\n",
       "      <td>0.502618</td>\n",
       "      <td>0.186589</td>\n",
       "      <td>0.241791</td>\n",
       "      <td>0.299145</td>\n",
       "      <td>0.250000</td>\n",
       "      <td>0.254849</td>\n",
       "      <td>0.139623</td>\n",
       "      <td>0.350000</td>\n",
       "      <td>0.628571</td>\n",
       "      <td>0.03750</td>\n",
       "      <td>0.252336</td>\n",
       "      <td>0.551020</td>\n",
       "      <td>0.305556</td>\n",
       "      <td>0.368421</td>\n",
       "      <td>0.063825</td>\n",
       "    </tr>\n",
       "    <tr>\n",
       "      <td>196</td>\n",
       "      <td>0.198953</td>\n",
       "      <td>0.516035</td>\n",
       "      <td>0.711940</td>\n",
       "      <td>0.589744</td>\n",
       "      <td>0.700000</td>\n",
       "      <td>0.561288</td>\n",
       "      <td>0.301887</td>\n",
       "      <td>0.885714</td>\n",
       "      <td>0.514286</td>\n",
       "      <td>0.15625</td>\n",
       "      <td>0.308411</td>\n",
       "      <td>0.510204</td>\n",
       "      <td>0.305556</td>\n",
       "      <td>0.315789</td>\n",
       "      <td>0.269773</td>\n",
       "    </tr>\n",
       "    <tr>\n",
       "      <td>148</td>\n",
       "      <td>0.104712</td>\n",
       "      <td>0.300292</td>\n",
       "      <td>0.485075</td>\n",
       "      <td>0.435897</td>\n",
       "      <td>0.591667</td>\n",
       "      <td>0.361521</td>\n",
       "      <td>0.177358</td>\n",
       "      <td>0.771429</td>\n",
       "      <td>0.271429</td>\n",
       "      <td>0.12500</td>\n",
       "      <td>0.158879</td>\n",
       "      <td>0.265306</td>\n",
       "      <td>0.277778</td>\n",
       "      <td>0.342105</td>\n",
       "      <td>0.071868</td>\n",
       "    </tr>\n",
       "    <tr>\n",
       "      <td>123</td>\n",
       "      <td>0.047120</td>\n",
       "      <td>0.486880</td>\n",
       "      <td>0.500000</td>\n",
       "      <td>0.367521</td>\n",
       "      <td>1.000000</td>\n",
       "      <td>0.406129</td>\n",
       "      <td>0.230189</td>\n",
       "      <td>0.578571</td>\n",
       "      <td>0.661905</td>\n",
       "      <td>0.09375</td>\n",
       "      <td>0.186916</td>\n",
       "      <td>0.346939</td>\n",
       "      <td>0.305556</td>\n",
       "      <td>0.368421</td>\n",
       "      <td>0.094409</td>\n",
       "    </tr>\n",
       "    <tr>\n",
       "      <td>65</td>\n",
       "      <td>0.277487</td>\n",
       "      <td>0.533528</td>\n",
       "      <td>0.505970</td>\n",
       "      <td>0.495726</td>\n",
       "      <td>0.550000</td>\n",
       "      <td>0.458495</td>\n",
       "      <td>0.298113</td>\n",
       "      <td>0.871429</td>\n",
       "      <td>0.519048</td>\n",
       "      <td>0.06250</td>\n",
       "      <td>0.336449</td>\n",
       "      <td>0.346939</td>\n",
       "      <td>0.166667</td>\n",
       "      <td>0.289474</td>\n",
       "      <td>0.326746</td>\n",
       "    </tr>\n",
       "    <tr>\n",
       "      <td>125</td>\n",
       "      <td>0.633508</td>\n",
       "      <td>0.230321</td>\n",
       "      <td>0.414925</td>\n",
       "      <td>0.683761</td>\n",
       "      <td>0.200000</td>\n",
       "      <td>0.500388</td>\n",
       "      <td>0.339623</td>\n",
       "      <td>1.000000</td>\n",
       "      <td>0.495238</td>\n",
       "      <td>0.15625</td>\n",
       "      <td>0.443925</td>\n",
       "      <td>0.551020</td>\n",
       "      <td>0.166667</td>\n",
       "      <td>0.289474</td>\n",
       "      <td>0.419542</td>\n",
       "    </tr>\n",
       "    <tr>\n",
       "      <td>124</td>\n",
       "      <td>0.298429</td>\n",
       "      <td>0.271137</td>\n",
       "      <td>0.479104</td>\n",
       "      <td>0.512821</td>\n",
       "      <td>0.200000</td>\n",
       "      <td>0.515904</td>\n",
       "      <td>0.358491</td>\n",
       "      <td>0.750000</td>\n",
       "      <td>0.852381</td>\n",
       "      <td>0.00000</td>\n",
       "      <td>0.453271</td>\n",
       "      <td>0.346939</td>\n",
       "      <td>0.166667</td>\n",
       "      <td>0.210526</td>\n",
       "      <td>0.189812</td>\n",
       "    </tr>\n",
       "    <tr>\n",
       "      <td>30</td>\n",
       "      <td>0.376963</td>\n",
       "      <td>0.000000</td>\n",
       "      <td>0.052239</td>\n",
       "      <td>0.307692</td>\n",
       "      <td>0.250000</td>\n",
       "      <td>0.087277</td>\n",
       "      <td>0.116981</td>\n",
       "      <td>0.264286</td>\n",
       "      <td>0.638095</td>\n",
       "      <td>0.16250</td>\n",
       "      <td>0.046729</td>\n",
       "      <td>0.265306</td>\n",
       "      <td>1.000000</td>\n",
       "      <td>1.000000</td>\n",
       "      <td>0.033787</td>\n",
       "    </tr>\n",
       "  </tbody>\n",
       "</table>\n",
       "</div>"
      ],
      "text/plain": [
       "     normalized-losses  wheel-base    length     width    height  curb-weight  \\\n",
       "2             0.298429    0.230321  0.449254  0.444444  0.383333     0.517843   \n",
       "66            0.298429    0.533528  0.505970  0.495726  0.550000     0.470132   \n",
       "79            0.502618    0.186589  0.241791  0.299145  0.250000     0.254849   \n",
       "196           0.198953    0.516035  0.711940  0.589744  0.700000     0.561288   \n",
       "148           0.104712    0.300292  0.485075  0.435897  0.591667     0.361521   \n",
       "123           0.047120    0.486880  0.500000  0.367521  1.000000     0.406129   \n",
       "65            0.277487    0.533528  0.505970  0.495726  0.550000     0.458495   \n",
       "125           0.633508    0.230321  0.414925  0.683761  0.200000     0.500388   \n",
       "124           0.298429    0.271137  0.479104  0.512821  0.200000     0.515904   \n",
       "30            0.376963    0.000000  0.052239  0.307692  0.250000     0.087277   \n",
       "\n",
       "     engine-size      bore    stroke  compression-ratio  horsepower  peak-rpm  \\\n",
       "2       0.343396  0.100000  0.666667            0.12500    0.495327  0.346939   \n",
       "66      0.275472  0.635714  0.747619            0.93750    0.112150  0.020408   \n",
       "79      0.139623  0.350000  0.628571            0.03750    0.252336  0.551020   \n",
       "196     0.301887  0.885714  0.514286            0.15625    0.308411  0.510204   \n",
       "148     0.177358  0.771429  0.271429            0.12500    0.158879  0.265306   \n",
       "123     0.230189  0.578571  0.661905            0.09375    0.186916  0.346939   \n",
       "65      0.298113  0.871429  0.519048            0.06250    0.336449  0.346939   \n",
       "125     0.339623  1.000000  0.495238            0.15625    0.443925  0.551020   \n",
       "124     0.358491  0.750000  0.852381            0.00000    0.453271  0.346939   \n",
       "30      0.116981  0.264286  0.638095            0.16250    0.046729  0.265306   \n",
       "\n",
       "     city-mpg  highway-mpg     price  \n",
       "2    0.166667     0.263158  0.282558  \n",
       "66   0.500000     0.605263  0.328335  \n",
       "79   0.305556     0.368421  0.063825  \n",
       "196  0.305556     0.315789  0.269773  \n",
       "148  0.277778     0.342105  0.071868  \n",
       "123  0.305556     0.368421  0.094409  \n",
       "65   0.166667     0.289474  0.326746  \n",
       "125  0.166667     0.289474  0.419542  \n",
       "124  0.166667     0.210526  0.189812  \n",
       "30   1.000000     1.000000  0.033787  "
      ]
     },
     "execution_count": 19,
     "metadata": {},
     "output_type": "execute_result"
    }
   ],
   "source": [
    "normalized_cars.sample(10)"
   ]
  },
  {
   "cell_type": "markdown",
   "metadata": {},
   "source": [
    "We don't want our target column `price` to be normalized, since we are interested in predicting its values. So we can use the `price` column of our non-normalized dataframe instead.  "
   ]
  },
  {
   "cell_type": "code",
   "execution_count": 20,
   "metadata": {},
   "outputs": [],
   "source": [
    "normalized_cars['price'] = numeric_cars['price']"
   ]
  },
  {
   "cell_type": "code",
   "execution_count": 21,
   "metadata": {},
   "outputs": [],
   "source": [
    "# assigning the normalized dataframe back to numeric_cars\n",
    "\n",
    "numeric_cars = normalized_cars"
   ]
  },
  {
   "cell_type": "code",
   "execution_count": 22,
   "metadata": {},
   "outputs": [
    {
     "data": {
      "text/html": [
       "<div>\n",
       "<style scoped>\n",
       "    .dataframe tbody tr th:only-of-type {\n",
       "        vertical-align: middle;\n",
       "    }\n",
       "\n",
       "    .dataframe tbody tr th {\n",
       "        vertical-align: top;\n",
       "    }\n",
       "\n",
       "    .dataframe thead th {\n",
       "        text-align: right;\n",
       "    }\n",
       "</style>\n",
       "<table border=\"1\" class=\"dataframe\">\n",
       "  <thead>\n",
       "    <tr style=\"text-align: right;\">\n",
       "      <th></th>\n",
       "      <th>normalized-losses</th>\n",
       "      <th>wheel-base</th>\n",
       "      <th>length</th>\n",
       "      <th>width</th>\n",
       "      <th>height</th>\n",
       "      <th>curb-weight</th>\n",
       "      <th>engine-size</th>\n",
       "      <th>bore</th>\n",
       "      <th>stroke</th>\n",
       "      <th>compression-ratio</th>\n",
       "      <th>horsepower</th>\n",
       "      <th>peak-rpm</th>\n",
       "      <th>city-mpg</th>\n",
       "      <th>highway-mpg</th>\n",
       "      <th>price</th>\n",
       "    </tr>\n",
       "  </thead>\n",
       "  <tbody>\n",
       "    <tr>\n",
       "      <td>98</td>\n",
       "      <td>0.539267</td>\n",
       "      <td>0.247813</td>\n",
       "      <td>0.317910</td>\n",
       "      <td>0.299145</td>\n",
       "      <td>0.458333</td>\n",
       "      <td>0.201707</td>\n",
       "      <td>0.135849</td>\n",
       "      <td>0.435714</td>\n",
       "      <td>0.580952</td>\n",
       "      <td>0.15000</td>\n",
       "      <td>0.098131</td>\n",
       "      <td>0.428571</td>\n",
       "      <td>0.500000</td>\n",
       "      <td>0.552632</td>\n",
       "      <td>8249.0</td>\n",
       "    </tr>\n",
       "    <tr>\n",
       "      <td>154</td>\n",
       "      <td>0.083770</td>\n",
       "      <td>0.265306</td>\n",
       "      <td>0.426866</td>\n",
       "      <td>0.282051</td>\n",
       "      <td>0.941667</td>\n",
       "      <td>0.311094</td>\n",
       "      <td>0.116981</td>\n",
       "      <td>0.364286</td>\n",
       "      <td>0.457143</td>\n",
       "      <td>0.12500</td>\n",
       "      <td>0.065421</td>\n",
       "      <td>0.265306</td>\n",
       "      <td>0.388889</td>\n",
       "      <td>0.421053</td>\n",
       "      <td>7898.0</td>\n",
       "    </tr>\n",
       "    <tr>\n",
       "      <td>114</td>\n",
       "      <td>0.298429</td>\n",
       "      <td>0.804665</td>\n",
       "      <td>0.862687</td>\n",
       "      <td>0.692308</td>\n",
       "      <td>0.908333</td>\n",
       "      <td>0.774631</td>\n",
       "      <td>0.343396</td>\n",
       "      <td>0.828571</td>\n",
       "      <td>0.690476</td>\n",
       "      <td>0.87500</td>\n",
       "      <td>0.219626</td>\n",
       "      <td>0.000000</td>\n",
       "      <td>0.333333</td>\n",
       "      <td>0.236842</td>\n",
       "      <td>17075.0</td>\n",
       "    </tr>\n",
       "    <tr>\n",
       "      <td>133</td>\n",
       "      <td>0.204188</td>\n",
       "      <td>0.364431</td>\n",
       "      <td>0.679104</td>\n",
       "      <td>0.529915</td>\n",
       "      <td>0.691667</td>\n",
       "      <td>0.468192</td>\n",
       "      <td>0.226415</td>\n",
       "      <td>0.714286</td>\n",
       "      <td>0.476190</td>\n",
       "      <td>0.14375</td>\n",
       "      <td>0.289720</td>\n",
       "      <td>0.448980</td>\n",
       "      <td>0.222222</td>\n",
       "      <td>0.315789</td>\n",
       "      <td>12170.0</td>\n",
       "    </tr>\n",
       "    <tr>\n",
       "      <td>195</td>\n",
       "      <td>0.047120</td>\n",
       "      <td>0.516035</td>\n",
       "      <td>0.711940</td>\n",
       "      <td>0.589744</td>\n",
       "      <td>0.808333</td>\n",
       "      <td>0.599690</td>\n",
       "      <td>0.301887</td>\n",
       "      <td>0.885714</td>\n",
       "      <td>0.514286</td>\n",
       "      <td>0.15625</td>\n",
       "      <td>0.308411</td>\n",
       "      <td>0.510204</td>\n",
       "      <td>0.277778</td>\n",
       "      <td>0.315789</td>\n",
       "      <td>13415.0</td>\n",
       "    </tr>\n",
       "    <tr>\n",
       "      <td>88</td>\n",
       "      <td>0.376963</td>\n",
       "      <td>0.282799</td>\n",
       "      <td>0.467164</td>\n",
       "      <td>0.435897</td>\n",
       "      <td>0.316667</td>\n",
       "      <td>0.354926</td>\n",
       "      <td>0.184906</td>\n",
       "      <td>0.450000</td>\n",
       "      <td>0.661905</td>\n",
       "      <td>0.03125</td>\n",
       "      <td>0.317757</td>\n",
       "      <td>0.551020</td>\n",
       "      <td>0.277778</td>\n",
       "      <td>0.368421</td>\n",
       "      <td>9279.0</td>\n",
       "    </tr>\n",
       "    <tr>\n",
       "      <td>111</td>\n",
       "      <td>0.502618</td>\n",
       "      <td>0.620991</td>\n",
       "      <td>0.680597</td>\n",
       "      <td>0.692308</td>\n",
       "      <td>0.741667</td>\n",
       "      <td>0.615593</td>\n",
       "      <td>0.222642</td>\n",
       "      <td>0.657143</td>\n",
       "      <td>0.057143</td>\n",
       "      <td>0.08750</td>\n",
       "      <td>0.219626</td>\n",
       "      <td>0.346939</td>\n",
       "      <td>0.166667</td>\n",
       "      <td>0.210526</td>\n",
       "      <td>15580.0</td>\n",
       "    </tr>\n",
       "    <tr>\n",
       "      <td>36</td>\n",
       "      <td>0.068063</td>\n",
       "      <td>0.288630</td>\n",
       "      <td>0.238806</td>\n",
       "      <td>0.307692</td>\n",
       "      <td>0.875000</td>\n",
       "      <td>0.207913</td>\n",
       "      <td>0.116981</td>\n",
       "      <td>0.271429</td>\n",
       "      <td>0.638095</td>\n",
       "      <td>0.13750</td>\n",
       "      <td>0.130841</td>\n",
       "      <td>0.755102</td>\n",
       "      <td>0.472222</td>\n",
       "      <td>0.473684</td>\n",
       "      <td>7295.0</td>\n",
       "    </tr>\n",
       "    <tr>\n",
       "      <td>182</td>\n",
       "      <td>0.298429</td>\n",
       "      <td>0.311953</td>\n",
       "      <td>0.456716</td>\n",
       "      <td>0.444444</td>\n",
       "      <td>0.658333</td>\n",
       "      <td>0.299845</td>\n",
       "      <td>0.135849</td>\n",
       "      <td>0.335714</td>\n",
       "      <td>0.633333</td>\n",
       "      <td>1.00000</td>\n",
       "      <td>0.018692</td>\n",
       "      <td>0.265306</td>\n",
       "      <td>0.666667</td>\n",
       "      <td>0.789474</td>\n",
       "      <td>7775.0</td>\n",
       "    </tr>\n",
       "    <tr>\n",
       "      <td>120</td>\n",
       "      <td>0.465969</td>\n",
       "      <td>0.206997</td>\n",
       "      <td>0.241791</td>\n",
       "      <td>0.299145</td>\n",
       "      <td>0.233333</td>\n",
       "      <td>0.185803</td>\n",
       "      <td>0.109434</td>\n",
       "      <td>0.307143</td>\n",
       "      <td>0.552381</td>\n",
       "      <td>0.15000</td>\n",
       "      <td>0.093458</td>\n",
       "      <td>0.551020</td>\n",
       "      <td>0.500000</td>\n",
       "      <td>0.578947</td>\n",
       "      <td>6229.0</td>\n",
       "    </tr>\n",
       "  </tbody>\n",
       "</table>\n",
       "</div>"
      ],
      "text/plain": [
       "     normalized-losses  wheel-base    length     width    height  curb-weight  \\\n",
       "98            0.539267    0.247813  0.317910  0.299145  0.458333     0.201707   \n",
       "154           0.083770    0.265306  0.426866  0.282051  0.941667     0.311094   \n",
       "114           0.298429    0.804665  0.862687  0.692308  0.908333     0.774631   \n",
       "133           0.204188    0.364431  0.679104  0.529915  0.691667     0.468192   \n",
       "195           0.047120    0.516035  0.711940  0.589744  0.808333     0.599690   \n",
       "88            0.376963    0.282799  0.467164  0.435897  0.316667     0.354926   \n",
       "111           0.502618    0.620991  0.680597  0.692308  0.741667     0.615593   \n",
       "36            0.068063    0.288630  0.238806  0.307692  0.875000     0.207913   \n",
       "182           0.298429    0.311953  0.456716  0.444444  0.658333     0.299845   \n",
       "120           0.465969    0.206997  0.241791  0.299145  0.233333     0.185803   \n",
       "\n",
       "     engine-size      bore    stroke  compression-ratio  horsepower  peak-rpm  \\\n",
       "98      0.135849  0.435714  0.580952            0.15000    0.098131  0.428571   \n",
       "154     0.116981  0.364286  0.457143            0.12500    0.065421  0.265306   \n",
       "114     0.343396  0.828571  0.690476            0.87500    0.219626  0.000000   \n",
       "133     0.226415  0.714286  0.476190            0.14375    0.289720  0.448980   \n",
       "195     0.301887  0.885714  0.514286            0.15625    0.308411  0.510204   \n",
       "88      0.184906  0.450000  0.661905            0.03125    0.317757  0.551020   \n",
       "111     0.222642  0.657143  0.057143            0.08750    0.219626  0.346939   \n",
       "36      0.116981  0.271429  0.638095            0.13750    0.130841  0.755102   \n",
       "182     0.135849  0.335714  0.633333            1.00000    0.018692  0.265306   \n",
       "120     0.109434  0.307143  0.552381            0.15000    0.093458  0.551020   \n",
       "\n",
       "     city-mpg  highway-mpg    price  \n",
       "98   0.500000     0.552632   8249.0  \n",
       "154  0.388889     0.421053   7898.0  \n",
       "114  0.333333     0.236842  17075.0  \n",
       "133  0.222222     0.315789  12170.0  \n",
       "195  0.277778     0.315789  13415.0  \n",
       "88   0.277778     0.368421   9279.0  \n",
       "111  0.166667     0.210526  15580.0  \n",
       "36   0.472222     0.473684   7295.0  \n",
       "182  0.666667     0.789474   7775.0  \n",
       "120  0.500000     0.578947   6229.0  "
      ]
     },
     "execution_count": 22,
     "metadata": {},
     "output_type": "execute_result"
    }
   ],
   "source": [
    "numeric_cars.sample(10)"
   ]
  },
  {
   "cell_type": "markdown",
   "metadata": {},
   "source": [
    "### Model training"
   ]
  },
  {
   "cell_type": "markdown",
   "metadata": {},
   "source": [
    "In this section, we are going to try a few different models and parameters and see how well they can predict the car prices using the k-nearest neighbors algorithm. "
   ]
  },
  {
   "cell_type": "markdown",
   "metadata": {},
   "source": [
    "Let's start with a simple model that uses only one variable as a predictor. We are going to build a function to help us with that. It starts by randomly shuffling the rows of the dataframe and then dividing it into a training set with 80 % of the rows and a test set with the rest. Then it trains the model using the selected column/feature from the training set, uses the model to make predictions on the test set, and finally calculates and returns our error metric, the root mean squared error (rmse). "
   ]
  },
  {
   "cell_type": "code",
   "execution_count": 23,
   "metadata": {},
   "outputs": [],
   "source": [
    "np.random.seed(42)\n",
    "\n",
    "\n",
    "def knn_train_test(train_col, target_col, df):\n",
    "    train_size = int(len(df) * 0.80)\n",
    "    new_index = np.random.permutation(df.index)\n",
    "    df = df.reindex(new_index)\n",
    "    train_set = df.iloc[:train_size]\n",
    "    test_set = df.iloc[train_size:]\n",
    "    model = KNeighborsRegressor()\n",
    "    model.fit(train_set[[train_col]], train_set[target_col])\n",
    "    predictions = model.predict(test_set[[train_col]])\n",
    "    mse = mean_squared_error(test_set[target_col], predictions)\n",
    "    rmse = mse ** (1/2)\n",
    "    return rmse"
   ]
  },
  {
   "cell_type": "markdown",
   "metadata": {},
   "source": [
    "We can try it on the `height` column to see if it works. "
   ]
  },
  {
   "cell_type": "code",
   "execution_count": 24,
   "metadata": {},
   "outputs": [
    {
     "data": {
      "text/plain": [
       "7280.089390365156"
      ]
     },
     "execution_count": 24,
     "metadata": {},
     "output_type": "execute_result"
    }
   ],
   "source": [
    "knn_train_test('height', 'price', numeric_cars)"
   ]
  },
  {
   "cell_type": "markdown",
   "metadata": {},
   "source": [
    "Seems good! Now we can try it on each of our feature columns and see which ones have the best results (ie. lower rmse)."
   ]
  },
  {
   "cell_type": "code",
   "execution_count": 25,
   "metadata": {},
   "outputs": [
    {
     "name": "stdout",
     "output_type": "stream",
     "text": [
      "\n",
      "-------------------\n",
      "COLUMN NAME:  normalized-losses\n",
      "RMSE:  7003.840116435081\n",
      "\n",
      "-------------------\n",
      "COLUMN NAME:  wheel-base\n",
      "RMSE:  6022.230610079259\n",
      "\n",
      "-------------------\n",
      "COLUMN NAME:  length\n",
      "RMSE:  5327.19008135873\n",
      "\n",
      "-------------------\n",
      "COLUMN NAME:  width\n",
      "RMSE:  4479.642471034121\n",
      "\n",
      "-------------------\n",
      "COLUMN NAME:  height\n",
      "RMSE:  8737.147461048002\n",
      "\n",
      "-------------------\n",
      "COLUMN NAME:  curb-weight\n",
      "RMSE:  4647.174474147784\n",
      "\n",
      "-------------------\n",
      "COLUMN NAME:  engine-size\n",
      "RMSE:  3356.235772700008\n",
      "\n",
      "-------------------\n",
      "COLUMN NAME:  bore\n",
      "RMSE:  6517.997041812245\n",
      "\n",
      "-------------------\n",
      "COLUMN NAME:  stroke\n",
      "RMSE:  5894.553784142303\n",
      "\n",
      "-------------------\n",
      "COLUMN NAME:  compression-ratio\n",
      "RMSE:  6050.455284784009\n",
      "\n",
      "-------------------\n",
      "COLUMN NAME:  horsepower\n",
      "RMSE:  3942.3444338517593\n",
      "\n",
      "-------------------\n",
      "COLUMN NAME:  peak-rpm\n",
      "RMSE:  6372.191526679257\n",
      "\n",
      "-------------------\n",
      "COLUMN NAME:  city-mpg\n",
      "RMSE:  5683.7569819833\n",
      "\n",
      "-------------------\n",
      "COLUMN NAME:  highway-mpg\n",
      "RMSE:  4182.058861724309\n"
     ]
    }
   ],
   "source": [
    "rmse_dic = {}\n",
    "rmse_list = []\n",
    "feature_cols = list(numeric_cars.columns)\n",
    "feature_cols.remove('price')\n",
    "\n",
    "for col in feature_cols:\n",
    "    print('\\n-------------------\\nCOLUMN NAME: ', col)\n",
    "    rmse = knn_train_test(col, 'price', numeric_cars)\n",
    "    print('RMSE: ', rmse)\n",
    "    rmse_dic[col] = rmse\n",
    "    rmse_list.append((rmse, col))"
   ]
  },
  {
   "cell_type": "code",
   "execution_count": 26,
   "metadata": {},
   "outputs": [],
   "source": [
    "smallest_rmse = min(rmse_dic, key=rmse_dic.get)"
   ]
  },
  {
   "cell_type": "code",
   "execution_count": 27,
   "metadata": {},
   "outputs": [
    {
     "data": {
      "text/plain": [
       "'engine-size'"
      ]
     },
     "execution_count": 27,
     "metadata": {},
     "output_type": "execute_result"
    }
   ],
   "source": [
    "smallest_rmse"
   ]
  },
  {
   "cell_type": "code",
   "execution_count": 28,
   "metadata": {},
   "outputs": [
    {
     "data": {
      "text/plain": [
       "{'normalized-losses': 7003.840116435081,\n",
       " 'wheel-base': 6022.230610079259,\n",
       " 'length': 5327.19008135873,\n",
       " 'width': 4479.642471034121,\n",
       " 'height': 8737.147461048002,\n",
       " 'curb-weight': 4647.174474147784,\n",
       " 'engine-size': 3356.235772700008,\n",
       " 'bore': 6517.997041812245,\n",
       " 'stroke': 5894.553784142303,\n",
       " 'compression-ratio': 6050.455284784009,\n",
       " 'horsepower': 3942.3444338517593,\n",
       " 'peak-rpm': 6372.191526679257,\n",
       " 'city-mpg': 5683.7569819833,\n",
       " 'highway-mpg': 4182.058861724309}"
      ]
     },
     "execution_count": 28,
     "metadata": {},
     "output_type": "execute_result"
    }
   ],
   "source": [
    "rmse_dic"
   ]
  },
  {
   "cell_type": "code",
   "execution_count": 29,
   "metadata": {},
   "outputs": [
    {
     "data": {
      "text/plain": [
       "[(3356.235772700008, 'engine-size'),\n",
       " (3942.3444338517593, 'horsepower'),\n",
       " (4182.058861724309, 'highway-mpg'),\n",
       " (4479.642471034121, 'width'),\n",
       " (4647.174474147784, 'curb-weight'),\n",
       " (5327.19008135873, 'length'),\n",
       " (5683.7569819833, 'city-mpg'),\n",
       " (5894.553784142303, 'stroke'),\n",
       " (6022.230610079259, 'wheel-base'),\n",
       " (6050.455284784009, 'compression-ratio'),\n",
       " (6372.191526679257, 'peak-rpm'),\n",
       " (6517.997041812245, 'bore'),\n",
       " (7003.840116435081, 'normalized-losses'),\n",
       " (8737.147461048002, 'height')]"
      ]
     },
     "execution_count": 29,
     "metadata": {},
     "output_type": "execute_result"
    }
   ],
   "source": [
    "sorted(rmse_list)"
   ]
  },
  {
   "cell_type": "markdown",
   "metadata": {},
   "source": [
    "The best feature for the model with one predictor variable and the default number of neighbors (5) was `engine-size`. Now let's create a new function that allows us to choose a value for k (number of neighbors). "
   ]
  },
  {
   "cell_type": "code",
   "execution_count": 30,
   "metadata": {},
   "outputs": [],
   "source": [
    "def knn_train_test(train_col, target_col, df, k):\n",
    "    train_size = int(len(df) * 0.80)\n",
    "    new_index = np.random.permutation(df.index)\n",
    "    df = df.reindex(new_index)\n",
    "    train_set = df.iloc[:train_size]\n",
    "    test_set = df.iloc[train_size:]\n",
    "    model = KNeighborsRegressor(n_neighbors=k)\n",
    "    model.fit(train_set[[train_col]], train_set[target_col])\n",
    "    predictions = model.predict(test_set[[train_col]])\n",
    "    mse = mean_squared_error(test_set[target_col], predictions)\n",
    "    rmse = mse ** (1/2)\n",
    "    return rmse"
   ]
  },
  {
   "cell_type": "code",
   "execution_count": 31,
   "metadata": {},
   "outputs": [],
   "source": [
    "k_values = [1, 3, 5, 7, 9]\n"
   ]
  },
  {
   "cell_type": "code",
   "execution_count": 32,
   "metadata": {},
   "outputs": [
    {
     "name": "stdout",
     "output_type": "stream",
     "text": [
      "\n",
      "------------------------\n",
      "COLUMN NAME:  normalized-losses\n",
      "\n",
      ">>>>>k-value:  1\n",
      "\n",
      ":::RMSE:  9467.887452060151\n",
      "\n",
      ">>>>>k-value:  3\n",
      "\n",
      ":::RMSE:  5115.521971475679\n",
      "\n",
      ">>>>>k-value:  5\n",
      "\n",
      ":::RMSE:  7144.270254563716\n",
      "\n",
      ">>>>>k-value:  7\n",
      "\n",
      ":::RMSE:  5154.029645999015\n",
      "\n",
      ">>>>>k-value:  9\n",
      "\n",
      ":::RMSE:  7079.305820979606\n",
      "\n",
      "------------------------\n",
      "COLUMN NAME:  wheel-base\n",
      "\n",
      ">>>>>k-value:  1\n",
      "\n",
      ":::RMSE:  6405.876722616964\n",
      "\n",
      ">>>>>k-value:  3\n",
      "\n",
      ":::RMSE:  5432.614024160133\n",
      "\n",
      ">>>>>k-value:  5\n",
      "\n",
      ":::RMSE:  3189.5041140682883\n",
      "\n",
      ">>>>>k-value:  7\n",
      "\n",
      ":::RMSE:  4920.606426577547\n",
      "\n",
      ">>>>>k-value:  9\n",
      "\n",
      ":::RMSE:  4784.346401664195\n",
      "\n",
      "------------------------\n",
      "COLUMN NAME:  length\n",
      "\n",
      ">>>>>k-value:  1\n",
      "\n",
      ":::RMSE:  7750.236093964823\n",
      "\n",
      ">>>>>k-value:  3\n",
      "\n",
      ":::RMSE:  4930.6437562400015\n",
      "\n",
      ">>>>>k-value:  5\n",
      "\n",
      ":::RMSE:  5770.482298142048\n",
      "\n",
      ">>>>>k-value:  7\n",
      "\n",
      ":::RMSE:  5640.410490491308\n",
      "\n",
      ">>>>>k-value:  9\n",
      "\n",
      ":::RMSE:  5717.3997285591\n",
      "\n",
      "------------------------\n",
      "COLUMN NAME:  width\n",
      "\n",
      ">>>>>k-value:  1\n",
      "\n",
      ":::RMSE:  5421.046310221023\n",
      "\n",
      ">>>>>k-value:  3\n",
      "\n",
      ":::RMSE:  5685.730947901433\n",
      "\n",
      ">>>>>k-value:  5\n",
      "\n",
      ":::RMSE:  5276.886209711548\n",
      "\n",
      ">>>>>k-value:  7\n",
      "\n",
      ":::RMSE:  5641.054900481284\n",
      "\n",
      ">>>>>k-value:  9\n",
      "\n",
      ":::RMSE:  3996.3348363292857\n",
      "\n",
      "------------------------\n",
      "COLUMN NAME:  height\n",
      "\n",
      ">>>>>k-value:  1\n",
      "\n",
      ":::RMSE:  8445.592932151641\n",
      "\n",
      ">>>>>k-value:  3\n",
      "\n",
      ":::RMSE:  8301.603916434815\n",
      "\n",
      ">>>>>k-value:  5\n",
      "\n",
      ":::RMSE:  9113.609059144836\n",
      "\n",
      ">>>>>k-value:  7\n",
      "\n",
      ":::RMSE:  10155.245361237648\n",
      "\n",
      ">>>>>k-value:  9\n",
      "\n",
      ":::RMSE:  9827.436744547478\n",
      "\n",
      "------------------------\n",
      "COLUMN NAME:  curb-weight\n",
      "\n",
      ">>>>>k-value:  1\n",
      "\n",
      ":::RMSE:  5105.459129875517\n",
      "\n",
      ">>>>>k-value:  3\n",
      "\n",
      ":::RMSE:  3825.3991286171613\n",
      "\n",
      ">>>>>k-value:  5\n",
      "\n",
      ":::RMSE:  5508.48606885156\n",
      "\n",
      ">>>>>k-value:  7\n",
      "\n",
      ":::RMSE:  4711.109045598728\n",
      "\n",
      ">>>>>k-value:  9\n",
      "\n",
      ":::RMSE:  3500.758946449217\n",
      "\n",
      "------------------------\n",
      "COLUMN NAME:  engine-size\n",
      "\n",
      ">>>>>k-value:  1\n",
      "\n",
      ":::RMSE:  4269.891276390433\n",
      "\n",
      ">>>>>k-value:  3\n",
      "\n",
      ":::RMSE:  3972.968391872559\n",
      "\n",
      ">>>>>k-value:  5\n",
      "\n",
      ":::RMSE:  2938.0112794284473\n",
      "\n",
      ">>>>>k-value:  7\n",
      "\n",
      ":::RMSE:  4830.569446576471\n",
      "\n",
      ">>>>>k-value:  9\n",
      "\n",
      ":::RMSE:  3808.7270865966025\n",
      "\n",
      "------------------------\n",
      "COLUMN NAME:  bore\n",
      "\n",
      ">>>>>k-value:  1\n",
      "\n",
      ":::RMSE:  7739.968502173258\n",
      "\n",
      ">>>>>k-value:  3\n",
      "\n",
      ":::RMSE:  8699.168721616708\n",
      "\n",
      ">>>>>k-value:  5\n",
      "\n",
      ":::RMSE:  5451.384970678239\n",
      "\n",
      ">>>>>k-value:  7\n",
      "\n",
      ":::RMSE:  7536.424798117502\n",
      "\n",
      ">>>>>k-value:  9\n",
      "\n",
      ":::RMSE:  8043.607125137277\n",
      "\n",
      "------------------------\n",
      "COLUMN NAME:  stroke\n",
      "\n",
      ">>>>>k-value:  1\n",
      "\n",
      ":::RMSE:  6318.471204797381\n",
      "\n",
      ">>>>>k-value:  3\n",
      "\n",
      ":::RMSE:  8124.158330222631\n",
      "\n",
      ">>>>>k-value:  5\n",
      "\n",
      ":::RMSE:  6013.497704655954\n",
      "\n",
      ">>>>>k-value:  7\n",
      "\n",
      ":::RMSE:  8081.822709858764\n",
      "\n",
      ">>>>>k-value:  9\n",
      "\n",
      ":::RMSE:  7235.094149428816\n",
      "\n",
      "------------------------\n",
      "COLUMN NAME:  compression-ratio\n",
      "\n",
      ">>>>>k-value:  1\n",
      "\n",
      ":::RMSE:  5403.654018911422\n",
      "\n",
      ">>>>>k-value:  3\n",
      "\n",
      ":::RMSE:  7935.603500939247\n",
      "\n",
      ">>>>>k-value:  5\n",
      "\n",
      ":::RMSE:  6259.362095917193\n",
      "\n",
      ">>>>>k-value:  7\n",
      "\n",
      ":::RMSE:  6735.295527052595\n",
      "\n",
      ">>>>>k-value:  9\n",
      "\n",
      ":::RMSE:  7361.774561562756\n",
      "\n",
      "------------------------\n",
      "COLUMN NAME:  horsepower\n",
      "\n",
      ">>>>>k-value:  1\n",
      "\n",
      ":::RMSE:  3191.109933824922\n",
      "\n",
      ">>>>>k-value:  3\n",
      "\n",
      ":::RMSE:  3295.030778608649\n",
      "\n",
      ">>>>>k-value:  5\n",
      "\n",
      ":::RMSE:  3887.1006283133634\n",
      "\n",
      ">>>>>k-value:  7\n",
      "\n",
      ":::RMSE:  5295.968102656059\n",
      "\n",
      ">>>>>k-value:  9\n",
      "\n",
      ":::RMSE:  3838.4966348609196\n",
      "\n",
      "------------------------\n",
      "COLUMN NAME:  peak-rpm\n",
      "\n",
      ">>>>>k-value:  1\n",
      "\n",
      ":::RMSE:  9406.772870079743\n",
      "\n",
      ">>>>>k-value:  3\n",
      "\n",
      ":::RMSE:  7577.496338064937\n",
      "\n",
      ">>>>>k-value:  5\n",
      "\n",
      ":::RMSE:  9773.670704649652\n",
      "\n",
      ">>>>>k-value:  7\n",
      "\n",
      ":::RMSE:  4688.776808473765\n",
      "\n",
      ">>>>>k-value:  9\n",
      "\n",
      ":::RMSE:  6573.093710394278\n",
      "\n",
      "------------------------\n",
      "COLUMN NAME:  city-mpg\n",
      "\n",
      ">>>>>k-value:  1\n",
      "\n",
      ":::RMSE:  4793.126005274536\n",
      "\n",
      ">>>>>k-value:  3\n",
      "\n",
      ":::RMSE:  3596.998335709967\n",
      "\n",
      ">>>>>k-value:  5\n",
      "\n",
      ":::RMSE:  4708.114221732311\n",
      "\n",
      ">>>>>k-value:  7\n",
      "\n",
      ":::RMSE:  3421.11816119702\n",
      "\n",
      ">>>>>k-value:  9\n",
      "\n",
      ":::RMSE:  4769.1380987615275\n",
      "\n",
      "------------------------\n",
      "COLUMN NAME:  highway-mpg\n",
      "\n",
      ">>>>>k-value:  1\n",
      "\n",
      ":::RMSE:  5649.727219834298\n",
      "\n",
      ">>>>>k-value:  3\n",
      "\n",
      ":::RMSE:  5709.739739867218\n",
      "\n",
      ">>>>>k-value:  5\n",
      "\n",
      ":::RMSE:  3842.236519808007\n",
      "\n",
      ">>>>>k-value:  7\n",
      "\n",
      ":::RMSE:  4071.181364094814\n",
      "\n",
      ">>>>>k-value:  9\n",
      "\n",
      ":::RMSE:  3460.2238579236014\n"
     ]
    }
   ],
   "source": [
    "rmse_results = {}\n",
    "for col in feature_cols:\n",
    "    rmse_results[col] = {1:0, 3:0, 5:0, 7:0}\n",
    "    print('\\n------------------------\\nCOLUMN NAME: ', col)\n",
    "    for k in k_values:\n",
    "        rmse = knn_train_test(col, 'price', numeric_cars, k)\n",
    "        rmse_results[col][k] = rmse\n",
    "        print('\\n>>>>>k-value: ', k)\n",
    "        print('\\n:::RMSE: ', rmse)\n",
    "        \n"
   ]
  },
  {
   "cell_type": "code",
   "execution_count": 33,
   "metadata": {},
   "outputs": [
    {
     "data": {
      "text/plain": [
       "{'normalized-losses': {1: 9467.887452060151,\n",
       "  3: 5115.521971475679,\n",
       "  5: 7144.270254563716,\n",
       "  7: 5154.029645999015,\n",
       "  9: 7079.305820979606},\n",
       " 'wheel-base': {1: 6405.876722616964,\n",
       "  3: 5432.614024160133,\n",
       "  5: 3189.5041140682883,\n",
       "  7: 4920.606426577547,\n",
       "  9: 4784.346401664195},\n",
       " 'length': {1: 7750.236093964823,\n",
       "  3: 4930.6437562400015,\n",
       "  5: 5770.482298142048,\n",
       "  7: 5640.410490491308,\n",
       "  9: 5717.3997285591},\n",
       " 'width': {1: 5421.046310221023,\n",
       "  3: 5685.730947901433,\n",
       "  5: 5276.886209711548,\n",
       "  7: 5641.054900481284,\n",
       "  9: 3996.3348363292857},\n",
       " 'height': {1: 8445.592932151641,\n",
       "  3: 8301.603916434815,\n",
       "  5: 9113.609059144836,\n",
       "  7: 10155.245361237648,\n",
       "  9: 9827.436744547478},\n",
       " 'curb-weight': {1: 5105.459129875517,\n",
       "  3: 3825.3991286171613,\n",
       "  5: 5508.48606885156,\n",
       "  7: 4711.109045598728,\n",
       "  9: 3500.758946449217},\n",
       " 'engine-size': {1: 4269.891276390433,\n",
       "  3: 3972.968391872559,\n",
       "  5: 2938.0112794284473,\n",
       "  7: 4830.569446576471,\n",
       "  9: 3808.7270865966025},\n",
       " 'bore': {1: 7739.968502173258,\n",
       "  3: 8699.168721616708,\n",
       "  5: 5451.384970678239,\n",
       "  7: 7536.424798117502,\n",
       "  9: 8043.607125137277},\n",
       " 'stroke': {1: 6318.471204797381,\n",
       "  3: 8124.158330222631,\n",
       "  5: 6013.497704655954,\n",
       "  7: 8081.822709858764,\n",
       "  9: 7235.094149428816},\n",
       " 'compression-ratio': {1: 5403.654018911422,\n",
       "  3: 7935.603500939247,\n",
       "  5: 6259.362095917193,\n",
       "  7: 6735.295527052595,\n",
       "  9: 7361.774561562756},\n",
       " 'horsepower': {1: 3191.109933824922,\n",
       "  3: 3295.030778608649,\n",
       "  5: 3887.1006283133634,\n",
       "  7: 5295.968102656059,\n",
       "  9: 3838.4966348609196},\n",
       " 'peak-rpm': {1: 9406.772870079743,\n",
       "  3: 7577.496338064937,\n",
       "  5: 9773.670704649652,\n",
       "  7: 4688.776808473765,\n",
       "  9: 6573.093710394278},\n",
       " 'city-mpg': {1: 4793.126005274536,\n",
       "  3: 3596.998335709967,\n",
       "  5: 4708.114221732311,\n",
       "  7: 3421.11816119702,\n",
       "  9: 4769.1380987615275},\n",
       " 'highway-mpg': {1: 5649.727219834298,\n",
       "  3: 5709.739739867218,\n",
       "  5: 3842.236519808007,\n",
       "  7: 4071.181364094814,\n",
       "  9: 3460.2238579236014}}"
      ]
     },
     "execution_count": 33,
     "metadata": {},
     "output_type": "execute_result"
    }
   ],
   "source": [
    "rmse_results"
   ]
  },
  {
   "cell_type": "markdown",
   "metadata": {},
   "source": [
    "Let's organize the results in a dataframe so that we can see them better. "
   ]
  },
  {
   "cell_type": "code",
   "execution_count": 34,
   "metadata": {},
   "outputs": [],
   "source": [
    "df_rmse = pd.DataFrame(rmse_results)"
   ]
  },
  {
   "cell_type": "code",
   "execution_count": 35,
   "metadata": {},
   "outputs": [],
   "source": [
    "df_rmse.index.name = 'k'"
   ]
  },
  {
   "cell_type": "code",
   "execution_count": 36,
   "metadata": {},
   "outputs": [
    {
     "data": {
      "text/html": [
       "<div>\n",
       "<style scoped>\n",
       "    .dataframe tbody tr th:only-of-type {\n",
       "        vertical-align: middle;\n",
       "    }\n",
       "\n",
       "    .dataframe tbody tr th {\n",
       "        vertical-align: top;\n",
       "    }\n",
       "\n",
       "    .dataframe thead th {\n",
       "        text-align: right;\n",
       "    }\n",
       "</style>\n",
       "<table border=\"1\" class=\"dataframe\">\n",
       "  <thead>\n",
       "    <tr style=\"text-align: right;\">\n",
       "      <th></th>\n",
       "      <th>normalized-losses</th>\n",
       "      <th>wheel-base</th>\n",
       "      <th>length</th>\n",
       "      <th>width</th>\n",
       "      <th>height</th>\n",
       "      <th>curb-weight</th>\n",
       "      <th>engine-size</th>\n",
       "      <th>bore</th>\n",
       "      <th>stroke</th>\n",
       "      <th>compression-ratio</th>\n",
       "      <th>horsepower</th>\n",
       "      <th>peak-rpm</th>\n",
       "      <th>city-mpg</th>\n",
       "      <th>highway-mpg</th>\n",
       "    </tr>\n",
       "    <tr>\n",
       "      <th>k</th>\n",
       "      <th></th>\n",
       "      <th></th>\n",
       "      <th></th>\n",
       "      <th></th>\n",
       "      <th></th>\n",
       "      <th></th>\n",
       "      <th></th>\n",
       "      <th></th>\n",
       "      <th></th>\n",
       "      <th></th>\n",
       "      <th></th>\n",
       "      <th></th>\n",
       "      <th></th>\n",
       "      <th></th>\n",
       "    </tr>\n",
       "  </thead>\n",
       "  <tbody>\n",
       "    <tr>\n",
       "      <td>1</td>\n",
       "      <td>9467.887452</td>\n",
       "      <td>6405.876723</td>\n",
       "      <td>7750.236094</td>\n",
       "      <td>5421.046310</td>\n",
       "      <td>8445.592932</td>\n",
       "      <td>5105.459130</td>\n",
       "      <td>4269.891276</td>\n",
       "      <td>7739.968502</td>\n",
       "      <td>6318.471205</td>\n",
       "      <td>5403.654019</td>\n",
       "      <td>3191.109934</td>\n",
       "      <td>9406.772870</td>\n",
       "      <td>4793.126005</td>\n",
       "      <td>5649.727220</td>\n",
       "    </tr>\n",
       "    <tr>\n",
       "      <td>3</td>\n",
       "      <td>5115.521971</td>\n",
       "      <td>5432.614024</td>\n",
       "      <td>4930.643756</td>\n",
       "      <td>5685.730948</td>\n",
       "      <td>8301.603916</td>\n",
       "      <td>3825.399129</td>\n",
       "      <td>3972.968392</td>\n",
       "      <td>8699.168722</td>\n",
       "      <td>8124.158330</td>\n",
       "      <td>7935.603501</td>\n",
       "      <td>3295.030779</td>\n",
       "      <td>7577.496338</td>\n",
       "      <td>3596.998336</td>\n",
       "      <td>5709.739740</td>\n",
       "    </tr>\n",
       "    <tr>\n",
       "      <td>5</td>\n",
       "      <td>7144.270255</td>\n",
       "      <td>3189.504114</td>\n",
       "      <td>5770.482298</td>\n",
       "      <td>5276.886210</td>\n",
       "      <td>9113.609059</td>\n",
       "      <td>5508.486069</td>\n",
       "      <td>2938.011279</td>\n",
       "      <td>5451.384971</td>\n",
       "      <td>6013.497705</td>\n",
       "      <td>6259.362096</td>\n",
       "      <td>3887.100628</td>\n",
       "      <td>9773.670705</td>\n",
       "      <td>4708.114222</td>\n",
       "      <td>3842.236520</td>\n",
       "    </tr>\n",
       "    <tr>\n",
       "      <td>7</td>\n",
       "      <td>5154.029646</td>\n",
       "      <td>4920.606427</td>\n",
       "      <td>5640.410490</td>\n",
       "      <td>5641.054900</td>\n",
       "      <td>10155.245361</td>\n",
       "      <td>4711.109046</td>\n",
       "      <td>4830.569447</td>\n",
       "      <td>7536.424798</td>\n",
       "      <td>8081.822710</td>\n",
       "      <td>6735.295527</td>\n",
       "      <td>5295.968103</td>\n",
       "      <td>4688.776808</td>\n",
       "      <td>3421.118161</td>\n",
       "      <td>4071.181364</td>\n",
       "    </tr>\n",
       "    <tr>\n",
       "      <td>9</td>\n",
       "      <td>7079.305821</td>\n",
       "      <td>4784.346402</td>\n",
       "      <td>5717.399729</td>\n",
       "      <td>3996.334836</td>\n",
       "      <td>9827.436745</td>\n",
       "      <td>3500.758946</td>\n",
       "      <td>3808.727087</td>\n",
       "      <td>8043.607125</td>\n",
       "      <td>7235.094149</td>\n",
       "      <td>7361.774562</td>\n",
       "      <td>3838.496635</td>\n",
       "      <td>6573.093710</td>\n",
       "      <td>4769.138099</td>\n",
       "      <td>3460.223858</td>\n",
       "    </tr>\n",
       "  </tbody>\n",
       "</table>\n",
       "</div>"
      ],
      "text/plain": [
       "   normalized-losses   wheel-base       length        width        height  \\\n",
       "k                                                                           \n",
       "1        9467.887452  6405.876723  7750.236094  5421.046310   8445.592932   \n",
       "3        5115.521971  5432.614024  4930.643756  5685.730948   8301.603916   \n",
       "5        7144.270255  3189.504114  5770.482298  5276.886210   9113.609059   \n",
       "7        5154.029646  4920.606427  5640.410490  5641.054900  10155.245361   \n",
       "9        7079.305821  4784.346402  5717.399729  3996.334836   9827.436745   \n",
       "\n",
       "   curb-weight  engine-size         bore       stroke  compression-ratio  \\\n",
       "k                                                                          \n",
       "1  5105.459130  4269.891276  7739.968502  6318.471205        5403.654019   \n",
       "3  3825.399129  3972.968392  8699.168722  8124.158330        7935.603501   \n",
       "5  5508.486069  2938.011279  5451.384971  6013.497705        6259.362096   \n",
       "7  4711.109046  4830.569447  7536.424798  8081.822710        6735.295527   \n",
       "9  3500.758946  3808.727087  8043.607125  7235.094149        7361.774562   \n",
       "\n",
       "    horsepower     peak-rpm     city-mpg  highway-mpg  \n",
       "k                                                      \n",
       "1  3191.109934  9406.772870  4793.126005  5649.727220  \n",
       "3  3295.030779  7577.496338  3596.998336  5709.739740  \n",
       "5  3887.100628  9773.670705  4708.114222  3842.236520  \n",
       "7  5295.968103  4688.776808  3421.118161  4071.181364  \n",
       "9  3838.496635  6573.093710  4769.138099  3460.223858  "
      ]
     },
     "execution_count": 36,
     "metadata": {},
     "output_type": "execute_result"
    }
   ],
   "source": [
    "df_rmse"
   ]
  },
  {
   "cell_type": "markdown",
   "metadata": {},
   "source": [
    "We can also plot the results. "
   ]
  },
  {
   "cell_type": "code",
   "execution_count": 37,
   "metadata": {},
   "outputs": [
    {
     "data": {
      "image/png": "[encoded data removed]",
      "text/plain": [
       "<Figure size 432x288 with 1 Axes>"
      ]
     },
     "metadata": {
      "needs_background": "light"
     },
     "output_type": "display_data"
    },
    {
     "data": {
      "image/png": "[encoded data removed]",
      "text/plain": [
       "<Figure size 432x288 with 1 Axes>"
      ]
     },
     "metadata": {
      "needs_background": "light"
     },
     "output_type": "display_data"
    },
    {
     "data": {
      "image/png": "[encoded data removed]",
      "text/plain": [
       "<Figure size 432x288 with 1 Axes>"
      ]
     },
     "metadata": {
      "needs_background": "light"
     },
     "output_type": "display_data"
    },
    {
     "data": {
      "image/png": "[encoded data removed]",
      "text/plain": [
       "<Figure size 432x288 with 1 Axes>"
      ]
     },
     "metadata": {
      "needs_background": "light"
     },
     "output_type": "display_data"
    },
    {
     "data": {
      "image/png": "[encoded data removed]",
      "text/plain": [
       "<Figure size 432x288 with 1 Axes>"
      ]
     },
     "metadata": {
      "needs_background": "light"
     },
     "output_type": "display_data"
    },
    {
     "data": {
      "image/png": "[encoded data removed]",
      "text/plain": [
       "<Figure size 432x288 with 1 Axes>"
      ]
     },
     "metadata": {
      "needs_background": "light"
     },
     "output_type": "display_data"
    },
    {
     "data": {
      "image/png": "[encoded data removed]",
      "text/plain": [
       "<Figure size 432x288 with 1 Axes>"
      ]
     },
     "metadata": {
      "needs_background": "light"
     },
     "output_type": "display_data"
    },
    {
     "data": {
      "image/png": "[encoded data removed]",
      "text/plain": [
       "<Figure size 432x288 with 1 Axes>"
      ]
     },
     "metadata": {
      "needs_background": "light"
     },
     "output_type": "display_data"
    },
    {
     "data": {
      "image/png": "[encoded data removed]",
      "text/plain": [
       "<Figure size 432x288 with 1 Axes>"
      ]
     },
     "metadata": {
      "needs_background": "light"
     },
     "output_type": "display_data"
    },
    {
     "data": {
      "image/png": "[encoded data removed]",
      "text/plain": [
       "<Figure size 432x288 with 1 Axes>"
      ]
     },
     "metadata": {
      "needs_background": "light"
     },
     "output_type": "display_data"
    },
    {
     "data": {
      "image/png": "[encoded data removed]",
      "text/plain": [
       "<Figure size 432x288 with 1 Axes>"
      ]
     },
     "metadata": {
      "needs_background": "light"
     },
     "output_type": "display_data"
    },
    {
     "data": {
      "image/png": "[encoded data removed]",
      "text/plain": [
       "<Figure size 432x288 with 1 Axes>"
      ]
     },
     "metadata": {
      "needs_background": "light"
     },
     "output_type": "display_data"
    },
    {
     "data": {
      "image/png": "[encoded data removed]",
      "text/plain": [
       "<Figure size 432x288 with 1 Axes>"
      ]
     },
     "metadata": {
      "needs_background": "light"
     },
     "output_type": "display_data"
    },
    {
     "data": {
      "image/png": "[encoded data removed]",
      "text/plain": [
       "<Figure size 432x288 with 1 Axes>"
      ]
     },
     "metadata": {
      "needs_background": "light"
     },
     "output_type": "display_data"
    }
   ],
   "source": [
    "for col in df_rmse.columns:\n",
    "    plt.scatter(df_rmse.index, df_rmse[col])\n",
    "    plt.title('RMSE results per k-value for column ' + str(col))\n",
    "    plt.xticks(k_values)\n",
    "    plt.xlabel('k-value')\n",
    "    plt.ylabel('RMSE')\n",
    "    plt.show()"
   ]
  },
  {
   "cell_type": "code",
   "execution_count": 38,
   "metadata": {},
   "outputs": [
    {
     "data": {
      "text/plain": [
       "{'normalized-losses': {1: 9467.887452060151,\n",
       "  3: 5115.521971475679,\n",
       "  5: 7144.270254563716,\n",
       "  7: 5154.029645999015,\n",
       "  9: 7079.305820979606},\n",
       " 'wheel-base': {1: 6405.876722616964,\n",
       "  3: 5432.614024160133,\n",
       "  5: 3189.5041140682883,\n",
       "  7: 4920.606426577547,\n",
       "  9: 4784.346401664195},\n",
       " 'length': {1: 7750.236093964823,\n",
       "  3: 4930.6437562400015,\n",
       "  5: 5770.482298142048,\n",
       "  7: 5640.410490491308,\n",
       "  9: 5717.3997285591},\n",
       " 'width': {1: 5421.046310221023,\n",
       "  3: 5685.730947901433,\n",
       "  5: 5276.886209711548,\n",
       "  7: 5641.054900481284,\n",
       "  9: 3996.3348363292857},\n",
       " 'height': {1: 8445.592932151641,\n",
       "  3: 8301.603916434815,\n",
       "  5: 9113.609059144836,\n",
       "  7: 10155.245361237648,\n",
       "  9: 9827.436744547478},\n",
       " 'curb-weight': {1: 5105.459129875517,\n",
       "  3: 3825.3991286171613,\n",
       "  5: 5508.48606885156,\n",
       "  7: 4711.109045598728,\n",
       "  9: 3500.758946449217},\n",
       " 'engine-size': {1: 4269.891276390433,\n",
       "  3: 3972.968391872559,\n",
       "  5: 2938.0112794284473,\n",
       "  7: 4830.569446576471,\n",
       "  9: 3808.7270865966025},\n",
       " 'bore': {1: 7739.968502173258,\n",
       "  3: 8699.168721616708,\n",
       "  5: 5451.384970678239,\n",
       "  7: 7536.424798117502,\n",
       "  9: 8043.607125137277},\n",
       " 'stroke': {1: 6318.471204797381,\n",
       "  3: 8124.158330222631,\n",
       "  5: 6013.497704655954,\n",
       "  7: 8081.822709858764,\n",
       "  9: 7235.094149428816},\n",
       " 'compression-ratio': {1: 5403.654018911422,\n",
       "  3: 7935.603500939247,\n",
       "  5: 6259.362095917193,\n",
       "  7: 6735.295527052595,\n",
       "  9: 7361.774561562756},\n",
       " 'horsepower': {1: 3191.109933824922,\n",
       "  3: 3295.030778608649,\n",
       "  5: 3887.1006283133634,\n",
       "  7: 5295.968102656059,\n",
       "  9: 3838.4966348609196},\n",
       " 'peak-rpm': {1: 9406.772870079743,\n",
       "  3: 7577.496338064937,\n",
       "  5: 9773.670704649652,\n",
       "  7: 4688.776808473765,\n",
       "  9: 6573.093710394278},\n",
       " 'city-mpg': {1: 4793.126005274536,\n",
       "  3: 3596.998335709967,\n",
       "  5: 4708.114221732311,\n",
       "  7: 3421.11816119702,\n",
       "  9: 4769.1380987615275},\n",
       " 'highway-mpg': {1: 5649.727219834298,\n",
       "  3: 5709.739739867218,\n",
       "  5: 3842.236519808007,\n",
       "  7: 4071.181364094814,\n",
       "  9: 3460.2238579236014}}"
      ]
     },
     "execution_count": 38,
     "metadata": {},
     "output_type": "execute_result"
    }
   ],
   "source": [
    "rmse_results"
   ]
  },
  {
   "cell_type": "markdown",
   "metadata": {},
   "source": [
    "Let's check which column and k value got the minimum rmse. "
   ]
  },
  {
   "cell_type": "code",
   "execution_count": 39,
   "metadata": {},
   "outputs": [
    {
     "data": {
      "text/plain": [
       "engine-size          2938.011279\n",
       "wheel-base           3189.504114\n",
       "horsepower           3191.109934\n",
       "city-mpg             3421.118161\n",
       "highway-mpg          3460.223858\n",
       "curb-weight          3500.758946\n",
       "width                3996.334836\n",
       "peak-rpm             4688.776808\n",
       "length               4930.643756\n",
       "normalized-losses    5115.521971\n",
       "compression-ratio    5403.654019\n",
       "bore                 5451.384971\n",
       "stroke               6013.497705\n",
       "height               8301.603916\n",
       "dtype: float64"
      ]
     },
     "execution_count": 39,
     "metadata": {},
     "output_type": "execute_result"
    }
   ],
   "source": [
    "df_rmse.min().sort_values()"
   ]
  },
  {
   "cell_type": "code",
   "execution_count": 40,
   "metadata": {},
   "outputs": [
    {
     "data": {
      "text/plain": [
       "k\n",
       "1    4269.891276\n",
       "3    3972.968392\n",
       "5    2938.011279\n",
       "7    4830.569447\n",
       "9    3808.727087\n",
       "Name: engine-size, dtype: float64"
      ]
     },
     "execution_count": 40,
     "metadata": {},
     "output_type": "execute_result"
    }
   ],
   "source": [
    "df_rmse['engine-size']"
   ]
  },
  {
   "cell_type": "markdown",
   "metadata": {},
   "source": [
    "This result confirms our earlier test. The best column for creating a k nearest neighbors model with one feature is `engine-size` with a k value of 5. "
   ]
  },
  {
   "cell_type": "markdown",
   "metadata": {},
   "source": [
    "In any case, let's also have a look at the `wheel-base` and `horsepower` columns, which also performed relatively well.  "
   ]
  },
  {
   "cell_type": "code",
   "execution_count": 41,
   "metadata": {},
   "outputs": [
    {
     "data": {
      "text/html": [
       "<div>\n",
       "<style scoped>\n",
       "    .dataframe tbody tr th:only-of-type {\n",
       "        vertical-align: middle;\n",
       "    }\n",
       "\n",
       "    .dataframe tbody tr th {\n",
       "        vertical-align: top;\n",
       "    }\n",
       "\n",
       "    .dataframe thead th {\n",
       "        text-align: right;\n",
       "    }\n",
       "</style>\n",
       "<table border=\"1\" class=\"dataframe\">\n",
       "  <thead>\n",
       "    <tr style=\"text-align: right;\">\n",
       "      <th></th>\n",
       "      <th>wheel-base</th>\n",
       "      <th>horsepower</th>\n",
       "    </tr>\n",
       "    <tr>\n",
       "      <th>k</th>\n",
       "      <th></th>\n",
       "      <th></th>\n",
       "    </tr>\n",
       "  </thead>\n",
       "  <tbody>\n",
       "    <tr>\n",
       "      <td>1</td>\n",
       "      <td>6405.876723</td>\n",
       "      <td>3191.109934</td>\n",
       "    </tr>\n",
       "    <tr>\n",
       "      <td>3</td>\n",
       "      <td>5432.614024</td>\n",
       "      <td>3295.030779</td>\n",
       "    </tr>\n",
       "    <tr>\n",
       "      <td>5</td>\n",
       "      <td>3189.504114</td>\n",
       "      <td>3887.100628</td>\n",
       "    </tr>\n",
       "    <tr>\n",
       "      <td>7</td>\n",
       "      <td>4920.606427</td>\n",
       "      <td>5295.968103</td>\n",
       "    </tr>\n",
       "    <tr>\n",
       "      <td>9</td>\n",
       "      <td>4784.346402</td>\n",
       "      <td>3838.496635</td>\n",
       "    </tr>\n",
       "  </tbody>\n",
       "</table>\n",
       "</div>"
      ],
      "text/plain": [
       "    wheel-base   horsepower\n",
       "k                          \n",
       "1  6405.876723  3191.109934\n",
       "3  5432.614024  3295.030779\n",
       "5  3189.504114  3887.100628\n",
       "7  4920.606427  5295.968103\n",
       "9  4784.346402  3838.496635"
      ]
     },
     "execution_count": 41,
     "metadata": {},
     "output_type": "execute_result"
    }
   ],
   "source": [
    "df_rmse[['wheel-base', 'horsepower']]"
   ]
  },
  {
   "cell_type": "markdown",
   "metadata": {},
   "source": [
    "Interestingly, while the best result we got from the `wheel-base` column was also the one where we used a k value of 5, for the `horsepower` column the best performance came from a k value of 1!"
   ]
  },
  {
   "cell_type": "markdown",
   "metadata": {},
   "source": [
    "Now let's make a function that allows us to create a model with multiple features. For now, let's use the default k value of 5."
   ]
  },
  {
   "cell_type": "code",
   "execution_count": 42,
   "metadata": {},
   "outputs": [],
   "source": [
    "def knn_train_test(train_cols, target_col, df):\n",
    "    train_size = int(len(df) * 0.80)\n",
    "    new_index = np.random.permutation(df.index)\n",
    "    df = df.reindex(new_index)\n",
    "    train_set = df.iloc[:train_size]\n",
    "    test_set = df.iloc[train_size:]\n",
    "    model = KNeighborsRegressor()\n",
    "    model.fit(train_set[train_cols], train_set[target_col])\n",
    "    predictions = model.predict(test_set[train_cols])\n",
    "    mse = mean_squared_error(test_set[target_col], predictions)\n",
    "    rmse = mse ** (1/2)\n",
    "    return rmse"
   ]
  },
  {
   "cell_type": "code",
   "execution_count": 43,
   "metadata": {},
   "outputs": [],
   "source": [
    "# save the top 5 features in a variable\n",
    "\n",
    "top5_features = list(df_rmse.min().sort_values().index[:5])"
   ]
  },
  {
   "cell_type": "code",
   "execution_count": 44,
   "metadata": {},
   "outputs": [
    {
     "data": {
      "text/plain": [
       "['engine-size', 'wheel-base', 'horsepower', 'city-mpg', 'highway-mpg']"
      ]
     },
     "execution_count": 44,
     "metadata": {},
     "output_type": "execute_result"
    }
   ],
   "source": [
    "top5_features"
   ]
  },
  {
   "cell_type": "markdown",
   "metadata": {},
   "source": [
    "Now let's train different models with the top 2, 3, 4 and 5 features and see how they perform. "
   ]
  },
  {
   "cell_type": "code",
   "execution_count": 45,
   "metadata": {},
   "outputs": [
    {
     "name": "stdout",
     "output_type": "stream",
     "text": [
      "\n",
      "\n",
      "------------------------\n",
      "\n",
      "COLUMNS: ['engine-size', 'wheel-base'] \n",
      "\n",
      "RMSE: 2875.564941821719\n",
      "\n",
      "\n",
      "------------------------\n",
      "\n",
      "COLUMNS: ['engine-size', 'wheel-base', 'horsepower'] \n",
      "\n",
      "RMSE: 3357.509662481783\n",
      "\n",
      "\n",
      "------------------------\n",
      "\n",
      "COLUMNS: ['engine-size', 'wheel-base', 'horsepower', 'city-mpg'] \n",
      "\n",
      "RMSE: 2818.3485295730084\n",
      "\n",
      "\n",
      "------------------------\n",
      "\n",
      "COLUMNS: ['engine-size', 'wheel-base', 'horsepower', 'city-mpg', 'highway-mpg'] \n",
      "\n",
      "RMSE: 5263.892509003339\n"
     ]
    }
   ],
   "source": [
    "for i in range(2, 6):\n",
    "    features = top5_features[:i]\n",
    "    print('\\n\\n------------------------\\n\\nCOLUMNS:', features, '\\n')\n",
    "    print('RMSE:', knn_train_test(features, 'price', numeric_cars))"
   ]
  },
  {
   "cell_type": "markdown",
   "metadata": {},
   "source": [
    "As we can see, our top 3 performing models were the ones with 4, 5 and 2 features.   "
   ]
  },
  {
   "cell_type": "code",
   "execution_count": 46,
   "metadata": {},
   "outputs": [],
   "source": [
    "# saving the top 3 models features\n",
    "\n",
    "topmodel1 = ['engine-size', 'wheel-base', 'horsepower', 'city-mpg']\n",
    "topmodel2 = ['engine-size', 'wheel-base', 'horsepower', 'city-mpg', 'highway-mpg']\n",
    "topmodel3 = ['engine-size', 'wheel-base']"
   ]
  },
  {
   "cell_type": "markdown",
   "metadata": {},
   "source": [
    "Now we can try different hyperparameter values for each of these models and see if we can optimize them. "
   ]
  },
  {
   "cell_type": "markdown",
   "metadata": {},
   "source": [
    "To do that, we are going to create a new function that allows us to choose the k value, and then we'll build several models with k values ranging from 1 to 25."
   ]
  },
  {
   "cell_type": "code",
   "execution_count": 47,
   "metadata": {},
   "outputs": [],
   "source": [
    "def knn_train_test(train_cols, target_col, df, k):\n",
    "    train_size = int(len(df) * 0.80)\n",
    "    new_index = np.random.permutation(df.index)\n",
    "    df = df.reindex(new_index)\n",
    "    train_set = df.iloc[:train_size]\n",
    "    test_set = df.iloc[train_size:]\n",
    "    model = KNeighborsRegressor(n_neighbors=k)\n",
    "    model.fit(train_set[train_cols], train_set[target_col])\n",
    "    predictions = model.predict(test_set[train_cols])\n",
    "    mse = mean_squared_error(test_set[target_col], predictions)\n",
    "    rmse = mse ** (1/2)\n",
    "    return rmse"
   ]
  },
  {
   "cell_type": "code",
   "execution_count": 48,
   "metadata": {},
   "outputs": [],
   "source": [
    "models_rmses = {'model1': {}, 'model2': {}, 'model3': {}}"
   ]
  },
  {
   "cell_type": "code",
   "execution_count": 49,
   "metadata": {},
   "outputs": [],
   "source": [
    "k_values = [i for i in range(1,26)]"
   ]
  },
  {
   "cell_type": "code",
   "execution_count": 50,
   "metadata": {},
   "outputs": [],
   "source": [
    "models_dic = {'model1': topmodel1, 'model2': topmodel2, 'model3': topmodel3}\n"
   ]
  },
  {
   "cell_type": "code",
   "execution_count": 51,
   "metadata": {},
   "outputs": [],
   "source": [
    "for key, value in models_dic.items():\n",
    "    for k in k_values:\n",
    "        models_rmses[key][k] = knn_train_test(value, 'price', numeric_cars, k)"
   ]
  },
  {
   "cell_type": "code",
   "execution_count": 52,
   "metadata": {},
   "outputs": [
    {
     "data": {
      "text/plain": [
       "{'model1': {1: 3484.0604850396376,\n",
       "  2: 3143.958169173406,\n",
       "  3: 3735.8616475081744,\n",
       "  4: 4214.826673627222,\n",
       "  5: 2648.8122315575297,\n",
       "  6: 2358.049134962995,\n",
       "  7: 2594.8979070157548,\n",
       "  8: 2578.694907593407,\n",
       "  9: 3411.5823689988365,\n",
       "  10: 3752.6589915782615,\n",
       "  11: 4855.828946213832,\n",
       "  12: 3399.50322119492,\n",
       "  13: 3144.1794615386802,\n",
       "  14: 5617.612283760516,\n",
       "  15: 4327.832934575166,\n",
       "  16: 4813.151320927679,\n",
       "  17: 4618.907516616762,\n",
       "  18: 3699.2236201838173,\n",
       "  19: 4906.534732387994,\n",
       "  20: 3006.3536523584144,\n",
       "  21: 4055.7852295818134,\n",
       "  22: 4529.51311210769,\n",
       "  23: 5444.783654444756,\n",
       "  24: 3221.8186225317227,\n",
       "  25: 3667.403588472567},\n",
       " 'model2': {1: 3333.3791175717492,\n",
       "  2: 3028.064340868441,\n",
       "  3: 1928.3028196389805,\n",
       "  4: 2862.52583650072,\n",
       "  5: 2857.98020474805,\n",
       "  6: 2649.7495715643436,\n",
       "  7: 2181.616880330631,\n",
       "  8: 3518.8121950055124,\n",
       "  9: 5060.929071449737,\n",
       "  10: 3983.967361140669,\n",
       "  11: 4109.7909153225555,\n",
       "  12: 3463.4769625168324,\n",
       "  13: 5109.308279471356,\n",
       "  14: 5570.097860056613,\n",
       "  15: 4473.206902409223,\n",
       "  16: 3315.158232558118,\n",
       "  17: 3142.7730015334964,\n",
       "  18: 5122.225550227008,\n",
       "  19: 5657.661407303305,\n",
       "  20: 4408.255476908651,\n",
       "  21: 5481.141687221603,\n",
       "  22: 3668.7193296371547,\n",
       "  23: 3962.870479404374,\n",
       "  24: 5238.709712622469,\n",
       "  25: 5096.906629612256},\n",
       " 'model3': {1: 3848.016099555591,\n",
       "  2: 3175.2777255141546,\n",
       "  3: 4811.54910543766,\n",
       "  4: 4772.591404087077,\n",
       "  5: 3239.667184050644,\n",
       "  6: 3383.4640152582415,\n",
       "  7: 4877.401001467786,\n",
       "  8: 3659.4815607467026,\n",
       "  9: 5785.7963286725235,\n",
       "  10: 5544.476437157536,\n",
       "  11: 2678.0796807519305,\n",
       "  12: 4592.059850092989,\n",
       "  13: 5533.928779829232,\n",
       "  14: 3372.4609596281507,\n",
       "  15: 4713.9582966146645,\n",
       "  16: 5163.93691796861,\n",
       "  17: 4520.300425706749,\n",
       "  18: 3279.0772625606455,\n",
       "  19: 3636.2597083137957,\n",
       "  20: 4786.835116130948,\n",
       "  21: 5083.772538789378,\n",
       "  22: 6294.9899436293845,\n",
       "  23: 3286.373957664717,\n",
       "  24: 4366.573811850207,\n",
       "  25: 4903.677609456287}}"
      ]
     },
     "execution_count": 52,
     "metadata": {},
     "output_type": "execute_result"
    }
   ],
   "source": [
    "models_rmses\n"
   ]
  },
  {
   "cell_type": "markdown",
   "metadata": {},
   "source": [
    "Let's turn these results into a dataframe so that we can visualize them better. "
   ]
  },
  {
   "cell_type": "code",
   "execution_count": 53,
   "metadata": {},
   "outputs": [],
   "source": [
    "df_final = pd.DataFrame(models_rmses)"
   ]
  },
  {
   "cell_type": "code",
   "execution_count": 54,
   "metadata": {},
   "outputs": [
    {
     "data": {
      "text/html": [
       "<div>\n",
       "<style scoped>\n",
       "    .dataframe tbody tr th:only-of-type {\n",
       "        vertical-align: middle;\n",
       "    }\n",
       "\n",
       "    .dataframe tbody tr th {\n",
       "        vertical-align: top;\n",
       "    }\n",
       "\n",
       "    .dataframe thead th {\n",
       "        text-align: right;\n",
       "    }\n",
       "</style>\n",
       "<table border=\"1\" class=\"dataframe\">\n",
       "  <thead>\n",
       "    <tr style=\"text-align: right;\">\n",
       "      <th></th>\n",
       "      <th>model1</th>\n",
       "      <th>model2</th>\n",
       "      <th>model3</th>\n",
       "    </tr>\n",
       "  </thead>\n",
       "  <tbody>\n",
       "    <tr>\n",
       "      <td>1</td>\n",
       "      <td>3484.060485</td>\n",
       "      <td>3333.379118</td>\n",
       "      <td>3848.016100</td>\n",
       "    </tr>\n",
       "    <tr>\n",
       "      <td>2</td>\n",
       "      <td>3143.958169</td>\n",
       "      <td>3028.064341</td>\n",
       "      <td>3175.277726</td>\n",
       "    </tr>\n",
       "    <tr>\n",
       "      <td>3</td>\n",
       "      <td>3735.861648</td>\n",
       "      <td>1928.302820</td>\n",
       "      <td>4811.549105</td>\n",
       "    </tr>\n",
       "    <tr>\n",
       "      <td>4</td>\n",
       "      <td>4214.826674</td>\n",
       "      <td>2862.525837</td>\n",
       "      <td>4772.591404</td>\n",
       "    </tr>\n",
       "    <tr>\n",
       "      <td>5</td>\n",
       "      <td>2648.812232</td>\n",
       "      <td>2857.980205</td>\n",
       "      <td>3239.667184</td>\n",
       "    </tr>\n",
       "    <tr>\n",
       "      <td>6</td>\n",
       "      <td>2358.049135</td>\n",
       "      <td>2649.749572</td>\n",
       "      <td>3383.464015</td>\n",
       "    </tr>\n",
       "    <tr>\n",
       "      <td>7</td>\n",
       "      <td>2594.897907</td>\n",
       "      <td>2181.616880</td>\n",
       "      <td>4877.401001</td>\n",
       "    </tr>\n",
       "    <tr>\n",
       "      <td>8</td>\n",
       "      <td>2578.694908</td>\n",
       "      <td>3518.812195</td>\n",
       "      <td>3659.481561</td>\n",
       "    </tr>\n",
       "    <tr>\n",
       "      <td>9</td>\n",
       "      <td>3411.582369</td>\n",
       "      <td>5060.929071</td>\n",
       "      <td>5785.796329</td>\n",
       "    </tr>\n",
       "    <tr>\n",
       "      <td>10</td>\n",
       "      <td>3752.658992</td>\n",
       "      <td>3983.967361</td>\n",
       "      <td>5544.476437</td>\n",
       "    </tr>\n",
       "    <tr>\n",
       "      <td>11</td>\n",
       "      <td>4855.828946</td>\n",
       "      <td>4109.790915</td>\n",
       "      <td>2678.079681</td>\n",
       "    </tr>\n",
       "    <tr>\n",
       "      <td>12</td>\n",
       "      <td>3399.503221</td>\n",
       "      <td>3463.476963</td>\n",
       "      <td>4592.059850</td>\n",
       "    </tr>\n",
       "    <tr>\n",
       "      <td>13</td>\n",
       "      <td>3144.179462</td>\n",
       "      <td>5109.308279</td>\n",
       "      <td>5533.928780</td>\n",
       "    </tr>\n",
       "    <tr>\n",
       "      <td>14</td>\n",
       "      <td>5617.612284</td>\n",
       "      <td>5570.097860</td>\n",
       "      <td>3372.460960</td>\n",
       "    </tr>\n",
       "    <tr>\n",
       "      <td>15</td>\n",
       "      <td>4327.832935</td>\n",
       "      <td>4473.206902</td>\n",
       "      <td>4713.958297</td>\n",
       "    </tr>\n",
       "    <tr>\n",
       "      <td>16</td>\n",
       "      <td>4813.151321</td>\n",
       "      <td>3315.158233</td>\n",
       "      <td>5163.936918</td>\n",
       "    </tr>\n",
       "    <tr>\n",
       "      <td>17</td>\n",
       "      <td>4618.907517</td>\n",
       "      <td>3142.773002</td>\n",
       "      <td>4520.300426</td>\n",
       "    </tr>\n",
       "    <tr>\n",
       "      <td>18</td>\n",
       "      <td>3699.223620</td>\n",
       "      <td>5122.225550</td>\n",
       "      <td>3279.077263</td>\n",
       "    </tr>\n",
       "    <tr>\n",
       "      <td>19</td>\n",
       "      <td>4906.534732</td>\n",
       "      <td>5657.661407</td>\n",
       "      <td>3636.259708</td>\n",
       "    </tr>\n",
       "    <tr>\n",
       "      <td>20</td>\n",
       "      <td>3006.353652</td>\n",
       "      <td>4408.255477</td>\n",
       "      <td>4786.835116</td>\n",
       "    </tr>\n",
       "    <tr>\n",
       "      <td>21</td>\n",
       "      <td>4055.785230</td>\n",
       "      <td>5481.141687</td>\n",
       "      <td>5083.772539</td>\n",
       "    </tr>\n",
       "    <tr>\n",
       "      <td>22</td>\n",
       "      <td>4529.513112</td>\n",
       "      <td>3668.719330</td>\n",
       "      <td>6294.989944</td>\n",
       "    </tr>\n",
       "    <tr>\n",
       "      <td>23</td>\n",
       "      <td>5444.783654</td>\n",
       "      <td>3962.870479</td>\n",
       "      <td>3286.373958</td>\n",
       "    </tr>\n",
       "    <tr>\n",
       "      <td>24</td>\n",
       "      <td>3221.818623</td>\n",
       "      <td>5238.709713</td>\n",
       "      <td>4366.573812</td>\n",
       "    </tr>\n",
       "    <tr>\n",
       "      <td>25</td>\n",
       "      <td>3667.403588</td>\n",
       "      <td>5096.906630</td>\n",
       "      <td>4903.677609</td>\n",
       "    </tr>\n",
       "  </tbody>\n",
       "</table>\n",
       "</div>"
      ],
      "text/plain": [
       "         model1       model2       model3\n",
       "1   3484.060485  3333.379118  3848.016100\n",
       "2   3143.958169  3028.064341  3175.277726\n",
       "3   3735.861648  1928.302820  4811.549105\n",
       "4   4214.826674  2862.525837  4772.591404\n",
       "5   2648.812232  2857.980205  3239.667184\n",
       "6   2358.049135  2649.749572  3383.464015\n",
       "7   2594.897907  2181.616880  4877.401001\n",
       "8   2578.694908  3518.812195  3659.481561\n",
       "9   3411.582369  5060.929071  5785.796329\n",
       "10  3752.658992  3983.967361  5544.476437\n",
       "11  4855.828946  4109.790915  2678.079681\n",
       "12  3399.503221  3463.476963  4592.059850\n",
       "13  3144.179462  5109.308279  5533.928780\n",
       "14  5617.612284  5570.097860  3372.460960\n",
       "15  4327.832935  4473.206902  4713.958297\n",
       "16  4813.151321  3315.158233  5163.936918\n",
       "17  4618.907517  3142.773002  4520.300426\n",
       "18  3699.223620  5122.225550  3279.077263\n",
       "19  4906.534732  5657.661407  3636.259708\n",
       "20  3006.353652  4408.255477  4786.835116\n",
       "21  4055.785230  5481.141687  5083.772539\n",
       "22  4529.513112  3668.719330  6294.989944\n",
       "23  5444.783654  3962.870479  3286.373958\n",
       "24  3221.818623  5238.709713  4366.573812\n",
       "25  3667.403588  5096.906630  4903.677609"
      ]
     },
     "execution_count": 54,
     "metadata": {},
     "output_type": "execute_result"
    }
   ],
   "source": [
    "df_final"
   ]
  },
  {
   "cell_type": "code",
   "execution_count": 55,
   "metadata": {},
   "outputs": [
    {
     "data": {
      "text/plain": [
       "model1    2358.049135\n",
       "model2    1928.302820\n",
       "model3    2678.079681\n",
       "dtype: float64"
      ]
     },
     "execution_count": 55,
     "metadata": {},
     "output_type": "execute_result"
    }
   ],
   "source": [
    "df_final.min()"
   ]
  },
  {
   "cell_type": "markdown",
   "metadata": {},
   "source": [
    "Model 2 is the winner! Let's see which k value got the best performance."
   ]
  },
  {
   "cell_type": "code",
   "execution_count": 56,
   "metadata": {},
   "outputs": [
    {
     "data": {
      "text/plain": [
       "3     1928.302820\n",
       "7     2181.616880\n",
       "6     2649.749572\n",
       "5     2857.980205\n",
       "4     2862.525837\n",
       "2     3028.064341\n",
       "17    3142.773002\n",
       "16    3315.158233\n",
       "1     3333.379118\n",
       "12    3463.476963\n",
       "8     3518.812195\n",
       "22    3668.719330\n",
       "23    3962.870479\n",
       "10    3983.967361\n",
       "11    4109.790915\n",
       "20    4408.255477\n",
       "15    4473.206902\n",
       "9     5060.929071\n",
       "25    5096.906630\n",
       "13    5109.308279\n",
       "18    5122.225550\n",
       "24    5238.709713\n",
       "21    5481.141687\n",
       "14    5570.097860\n",
       "19    5657.661407\n",
       "Name: model2, dtype: float64"
      ]
     },
     "execution_count": 56,
     "metadata": {},
     "output_type": "execute_result"
    }
   ],
   "source": [
    "df_final['model2'].sort_values()"
   ]
  },
  {
   "cell_type": "markdown",
   "metadata": {},
   "source": [
    "### Conclusions"
   ]
  },
  {
   "cell_type": "code",
   "execution_count": 57,
   "metadata": {},
   "outputs": [
    {
     "name": "stdout",
     "output_type": "stream",
     "text": [
      " The best performing model had the following features:\n",
      " ['engine-size', 'wheel-base', 'horsepower', 'city-mpg', 'highway-mpg'] \n",
      " and a k value of 2\n"
     ]
    }
   ],
   "source": [
    "print(' The best performing model had the following features:\\n', topmodel2, '\\n and a k value of 2')"
   ]
  },
  {
   "cell_type": "markdown",
   "metadata": {},
   "source": [
    "We've definitely made progress, starting from our best performing one-feature model with the default k value of 5 which had a RMSE of 3356.24, all the way to our last model with 5 features and a k value of 2, which got us a RMSE value of 1942.24"
   ]
  },
  {
   "cell_type": "markdown",
   "metadata": {},
   "source": [
    "We could keep optimizing by choosing different algorithms and using k-fold cross validation, for example. However, the goal of this exercise was just to demonstrate how we can improve model performance by tweaking its features and hyperparameters. "
   ]
  },
  {
   "cell_type": "markdown",
   "metadata": {},
   "source": [
    "Let's finish by plotting the RMSE of different k values for each of the top 3 models. That way we can clearly see how the performance of the model changes according to this hyperparameter."
   ]
  },
  {
   "cell_type": "code",
   "execution_count": 58,
   "metadata": {},
   "outputs": [
    {
     "data": {
      "image/png": "[encoded data removed]",
      "text/plain": [
       "<Figure size 720x288 with 1 Axes>"
      ]
     },
     "metadata": {
      "needs_background": "light"
     },
     "output_type": "display_data"
    },
    {
     "data": {
      "image/png": "[encoded data removed]",
      "text/plain": [
       "<Figure size 720x288 with 1 Axes>"
      ]
     },
     "metadata": {
      "needs_background": "light"
     },
     "output_type": "display_data"
    },
    {
     "data": {
      "image/png": "[encoded data removed]",
      "text/plain": [
       "<Figure size 720x288 with 1 Axes>"
      ]
     },
     "metadata": {
      "needs_background": "light"
     },
     "output_type": "display_data"
    }
   ],
   "source": [
    "for key, value in models_dic.items():\n",
    "    plt.figure(figsize=(10,4))\n",
    "    plt.scatter(df_final.index, df_final[key])\n",
    "    plt.xticks(k_values)\n",
    "    plt.yticks(range(0, 7000, 500))\n",
    "    plt.xlim(0, 26)\n",
    "    plt.xlabel('k-value')\n",
    "    plt.ylabel('RMSE')\n",
    "    plt.title('COLUMNS: ' + str(value))\n",
    "    plt.show()\n",
    "    "
   ]
  },
  {
   "cell_type": "code",
   "execution_count": 59,
   "metadata": {},
   "outputs": [
    {
     "data": {
      "image/png": "[encoded data removed]",
      "text/plain": [
       "<Figure size 576x432 with 1 Axes>"
      ]
     },
     "metadata": {
      "needs_background": "light"
     },
     "output_type": "display_data"
    }
   ],
   "source": [
    "plt.figure(figsize=(8,6))\n",
    "for key, value in models_dic.items():\n",
    "    plt.plot(df_final.index, df_final[key], label=str(value))\n",
    "plt.xticks(k_values)\n",
    "plt.xlabel('k-value')\n",
    "plt.ylabel('RMSE')\n",
    "plt.yticks(range(0, 7000, 500))\n",
    "plt.legend(loc=2, fontsize='small')\n",
    "plt.title('RMSE per k value according to features used in model')\n",
    "plt.show()\n",
    "\n"
   ]
  },
  {
   "cell_type": "code",
   "execution_count": null,
   "metadata": {},
   "outputs": [],
   "source": []
  }
 ],
 "metadata": {
  "kernelspec": {
   "display_name": "Python 3",
   "language": "python",
   "name": "python3"
  },
  "language_info": {
   "codemirror_mode": {
    "name": "ipython",
    "version": 3
   },
   "file_extension": ".py",
   "mimetype": "text/x-python",
   "name": "python",
   "nbconvert_exporter": "python",
   "pygments_lexer": "ipython3",
   "version": "3.7.4"
  }
 },
 "nbformat": 4,
 "nbformat_minor": 2
}
